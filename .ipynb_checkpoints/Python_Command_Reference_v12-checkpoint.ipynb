{
 "cells": [
  {
   "cell_type": "markdown",
   "metadata": {},
   "source": [
    "# Data Types in Python"
   ]
  },
  {
   "cell_type": "markdown",
   "metadata": {},
   "source": [
    "In Python there are four data types\n",
    "booleans\n",
    "integers\n",
    "floats\n",
    "strings\n"
   ]
  },
  {
   "cell_type": "code",
   "execution_count": 6,
   "metadata": {
    "collapsed": false
   },
   "outputs": [
    {
     "data": {
      "text/plain": [
       "int"
      ]
     },
     "execution_count": 6,
     "metadata": {},
     "output_type": "execute_result"
    }
   ],
   "source": [
    "a=10\n",
    "b=True\n",
    "c=\"Python is cool\"\n",
    "d=1.3\n",
    "#You could use type() function to check the type of the data object\n",
    "type(a)"
   ]
  },
  {
   "cell_type": "code",
   "execution_count": 7,
   "metadata": {
    "collapsed": false
   },
   "outputs": [
    {
     "name": "stdout",
     "output_type": "stream",
     "text": [
      "ab\n"
     ]
    },
    {
     "data": {
      "text/plain": [
       "7"
      ]
     },
     "execution_count": 7,
     "metadata": {},
     "output_type": "execute_result"
    }
   ],
   "source": [
    "s=\"abcdefg\"\n",
    "\n",
    "print(s[0:2])\n",
    "len(s)"
   ]
  },
  {
   "cell_type": "code",
   "execution_count": 8,
   "metadata": {
    "collapsed": false
   },
   "outputs": [
    {
     "name": "stdout",
     "output_type": "stream",
     "text": [
      "abcdef\n"
     ]
    }
   ],
   "source": [
    "s=\"abcdefg\"\n",
    "s1=s[:-1]\n",
    "print(s1)"
   ]
  },
  {
   "cell_type": "code",
   "execution_count": 9,
   "metadata": {
    "collapsed": false,
    "scrolled": true
   },
   "outputs": [
    {
     "name": "stdout",
     "output_type": "stream",
     "text": [
      "Python is cool\n"
     ]
    }
   ],
   "source": [
    "#To add strings together\n",
    "a=\"Python \"\n",
    "b=\"is cool\"\n",
    "c=a+b\n",
    "print(c)\n"
   ]
  },
  {
   "cell_type": "code",
   "execution_count": 10,
   "metadata": {
    "collapsed": false
   },
   "outputs": [
    {
     "data": {
      "text/plain": [
       "'Python Python Python is cool'"
      ]
     },
     "execution_count": 10,
     "metadata": {},
     "output_type": "execute_result"
    }
   ],
   "source": [
    "a*3+b"
   ]
  },
  {
   "cell_type": "markdown",
   "metadata": {},
   "source": [
    "# String management with index"
   ]
  },
  {
   "cell_type": "markdown",
   "metadata": {},
   "source": [
    "To extract characters from the string in Python:\n",
    "string[A:B:C]\n",
    "where\n",
    "A-the start position of the string\n",
    "B-The position after the end part of the string\n",
    "C: The step of the jumping from the start position towards the end\n",
    "Note: the first character starts with 0 in the extraction \n"
   ]
  },
  {
   "cell_type": "code",
   "execution_count": 11,
   "metadata": {
    "collapsed": false
   },
   "outputs": [
    {
     "data": {
      "text/plain": [
       "'zyxwvutsrqponmlkjihgfedcba'"
      ]
     },
     "execution_count": 11,
     "metadata": {},
     "output_type": "execute_result"
    }
   ],
   "source": [
    "letters=\"abcdefghijklmnopqrstuvwxyz\"\n",
    "#To extract the first three characters from the string\n",
    "letters[::-1]\n"
   ]
  },
  {
   "cell_type": "code",
   "execution_count": 12,
   "metadata": {
    "collapsed": false
   },
   "outputs": [
    {
     "data": {
      "text/plain": [
       "'ac'"
      ]
     },
     "execution_count": 12,
     "metadata": {},
     "output_type": "execute_result"
    }
   ],
   "source": [
    "letters=\"abcdefghijklmnopqrstuvwxyz\"\n",
    "letters[0:4:2]\n"
   ]
  },
  {
   "cell_type": "markdown",
   "metadata": {},
   "source": [
    "Quiz 1\n",
    "Try the following statements:\n",
    "len(letters)\n",
    "letters[0]\n",
    "letters[-1]\n",
    "letters[0:2]\n",
    "letters[0:4:2]\n",
    "letters[::-1]\n",
    "letters[:-1]"
   ]
  },
  {
   "cell_type": "code",
   "execution_count": 13,
   "metadata": {
    "collapsed": false
   },
   "outputs": [
    {
     "data": {
      "text/plain": [
       "'abcdefghijklmnopqrstuvwxy'"
      ]
     },
     "execution_count": 13,
     "metadata": {},
     "output_type": "execute_result"
    }
   ],
   "source": [
    "letters[:-1]"
   ]
  },
  {
   "cell_type": "markdown",
   "metadata": {},
   "source": [
    "You can also use \"+\" operator to perform the addition of strings"
   ]
  },
  {
   "cell_type": "code",
   "execution_count": 14,
   "metadata": {
    "collapsed": false
   },
   "outputs": [
    {
     "name": "stdout",
     "output_type": "stream",
     "text": [
      "abcdefghijklmnopqrstuvwxyzA\n"
     ]
    }
   ],
   "source": [
    "letters=\"abcdefghijklmnopqrstuvwxyz\"\n",
    "letters=letters+\"A\"\n",
    "print(letters)\n"
   ]
  },
  {
   "cell_type": "code",
   "execution_count": 15,
   "metadata": {
    "collapsed": false
   },
   "outputs": [
    {
     "ename": "TypeError",
     "evalue": "'str' object does not support item assignment",
     "output_type": "error",
     "traceback": [
      "\u001b[1;31m---------------------------------------------------------------------------\u001b[0m",
      "\u001b[1;31mTypeError\u001b[0m                                 Traceback (most recent call last)",
      "\u001b[1;32m<ipython-input-15-86fb2a558850>\u001b[0m in \u001b[0;36m<module>\u001b[1;34m()\u001b[0m\n\u001b[1;32m----> 1\u001b[1;33m \u001b[0mletters\u001b[0m\u001b[1;33m[\u001b[0m\u001b[1;36m0\u001b[0m\u001b[1;33m]\u001b[0m\u001b[1;33m=\u001b[0m\u001b[1;34m\"b\"\u001b[0m\u001b[1;33m\u001b[0m\u001b[0m\n\u001b[0m",
      "\u001b[1;31mTypeError\u001b[0m: 'str' object does not support item assignment"
     ]
    }
   ],
   "source": [
    "letters[0]=\"b\""
   ]
  },
  {
   "cell_type": "code",
   "execution_count": null,
   "metadata": {
    "collapsed": true
   },
   "outputs": [],
   "source": [
    "letters=\"abcdefghijklmnopqrstuvwxyz\"\n",
    "letters=\"b\"+letters[1:]\n",
    "print(letters)"
   ]
  },
  {
   "cell_type": "code",
   "execution_count": null,
   "metadata": {
    "collapsed": true
   },
   "outputs": [],
   "source": [
    "letters=\"abcdefghijklmnopqrstuvwxyza\"\n",
    "letters1=letters.replace(\"a\",\"b\")\n",
    "print(letters1)\n",
    "print(letters1.strip(\"b\"))\n",
    "letters1\n"
   ]
  },
  {
   "cell_type": "code",
   "execution_count": null,
   "metadata": {
    "collapsed": true
   },
   "outputs": [],
   "source": [
    "#This is just a comment\n",
    "data=\"1;2;4;6;8\"\n",
    "L1=data.split(\";\")\n",
    "print(data)\n",
    "print(\"L1=\",L1)\n"
   ]
  },
  {
   "cell_type": "code",
   "execution_count": null,
   "metadata": {
    "collapsed": true
   },
   "outputs": [],
   "source": [
    "S1=','.join(L1)\n",
    "print(S1)\n",
    "type(S1)"
   ]
  },
  {
   "cell_type": "code",
   "execution_count": null,
   "metadata": {
    "collapsed": true
   },
   "outputs": [],
   "source": [
    "def menu(wine,entree,dessert):\n",
    "    return {\"wine\":wine,\"entree\":entree,\"dessert\":dessert}\n",
    "\n"
   ]
  },
  {
   "cell_type": "code",
   "execution_count": null,
   "metadata": {
    "collapsed": true
   },
   "outputs": [],
   "source": [
    "d1=menu(\"chardonnav\",\"chicken\",\"cake\")\n",
    "print(d1)"
   ]
  },
  {
   "cell_type": "markdown",
   "metadata": {},
   "source": [
    "# Basic data structures in Python"
   ]
  },
  {
   "cell_type": "markdown",
   "metadata": {},
   "source": [
    "There are basically four data structures in Python:\n",
    "-Lists\n",
    "-Tuples\n",
    "-Dictionaries\n",
    "-Sets"
   ]
  },
  {
   "cell_type": "markdown",
   "metadata": {},
   "source": [
    "## List"
   ]
  },
  {
   "cell_type": "code",
   "execution_count": null,
   "metadata": {
    "collapsed": true
   },
   "outputs": [],
   "source": [
    "L1=[[1,2,3],[4,5,6],[7,8,9]]\n",
    "L2=L1[0][0:2]\n",
    "print(L2)"
   ]
  },
  {
   "cell_type": "code",
   "execution_count": null,
   "metadata": {
    "collapsed": true
   },
   "outputs": [],
   "source": [
    "L1=[[1,2,3],[4,5,6],[7,8,9]]\n",
    "L2=L1[0:2]\n",
    "print(L2)"
   ]
  },
  {
   "cell_type": "code",
   "execution_count": null,
   "metadata": {
    "collapsed": true
   },
   "outputs": [],
   "source": [
    "L3=L1[::2]\n",
    "print(L3)"
   ]
  },
  {
   "cell_type": "code",
   "execution_count": null,
   "metadata": {
    "collapsed": true
   },
   "outputs": [],
   "source": [
    "L3=L1[::2][1][0]\n",
    "L3"
   ]
  },
  {
   "cell_type": "code",
   "execution_count": null,
   "metadata": {
    "collapsed": true,
    "scrolled": true
   },
   "outputs": [],
   "source": [
    "days=[\"1\",\"2\",\"3\",\"4\",\"5\",\"6\",\"7\"]\n",
    "\n",
    "print(days)\n",
    "days.append(\"8\")\n",
    "print(days)\n",
    "days.insert(1,\"9\")\n",
    "print(days)\n",
    "days.append([\"8\",\"9\"])\n",
    "print(days)\n",
    "type(days)"
   ]
  },
  {
   "cell_type": "code",
   "execution_count": null,
   "metadata": {
    "collapsed": true
   },
   "outputs": [],
   "source": [
    "days=[\"1\",\"2\",\"3\",\"4\",\"5\",\"6\",\"7\"]\n",
    "days1=[\"8\",\"9\"]\n",
    "days=days+days1\n",
    "days"
   ]
  },
  {
   "cell_type": "code",
   "execution_count": null,
   "metadata": {
    "collapsed": true
   },
   "outputs": [],
   "source": [
    "days=[\"1\",\"2\",\"3\",\"4\",\"5\",\"6\",\"7\"]\n",
    "days1=[\"8\",\"9\"]\n",
    "days=list(days[0])+days1+days[1:]\n",
    "days"
   ]
  },
  {
   "cell_type": "code",
   "execution_count": null,
   "metadata": {
    "collapsed": true
   },
   "outputs": [],
   "source": [
    "days.extend([\"10\",\"11\",\"12\"])\n",
    "print(days)"
   ]
  },
  {
   "cell_type": "code",
   "execution_count": null,
   "metadata": {
    "collapsed": true
   },
   "outputs": [],
   "source": [
    "days.index(\"1\")\n",
    "days.index(\"10\")"
   ]
  },
  {
   "cell_type": "code",
   "execution_count": 1,
   "metadata": {
    "collapsed": false
   },
   "outputs": [
    {
     "data": {
      "text/plain": [
       "0"
      ]
     },
     "execution_count": 1,
     "metadata": {},
     "output_type": "execute_result"
    }
   ],
   "source": [
    "#Note that with index method it will only return the first match\n",
    "days=[\"1\",\"2\",\"3\",\"4\",\"1\",\"5\",\"6\",\"7\"]\n",
    "days.index(\"1\")"
   ]
  },
  {
   "cell_type": "code",
   "execution_count": null,
   "metadata": {
    "collapsed": true
   },
   "outputs": [],
   "source": [
    "days1=[\"13\",\"14\",\"15\",\"16\",\"17\"]\n",
    "days=days+days1\n",
    "print(days)"
   ]
  },
  {
   "cell_type": "code",
   "execution_count": null,
   "metadata": {
    "collapsed": true
   },
   "outputs": [],
   "source": [
    "for i in [1,2,4,5,6]:\n",
    "    print(i)"
   ]
  },
  {
   "cell_type": "code",
   "execution_count": null,
   "metadata": {
    "collapsed": true
   },
   "outputs": [],
   "source": [
    "L1=[1,2,3,4,6.7,9,11,100]\n",
    "L2=[]\n",
    "for i in L1:\n",
    "    if i >=10:\n",
    "        L2.append(i)\n",
    "print(L2)"
   ]
  },
  {
   "cell_type": "code",
   "execution_count": null,
   "metadata": {
    "collapsed": true
   },
   "outputs": [],
   "source": [
    "#To search for the position of the list elements which match the filtering\n",
    "#criteria.\n",
    "L1=[1,2,1,2,3,4,5]\n",
    "L2=[]\n",
    "k=0\n",
    "for i in L1:\n",
    "    if i==1:\n",
    "        L2.append(k)\n",
    "    k=k+1\n",
    "print(L2)\n",
    "        \n",
    "    \n",
    "        \n",
    "        "
   ]
  },
  {
   "cell_type": "markdown",
   "metadata": {},
   "source": [
    "To remove elements from list object you could use the following ways:\n",
    "-del function\n",
    "-remove method\n",
    "-pop method\n"
   ]
  },
  {
   "cell_type": "code",
   "execution_count": null,
   "metadata": {
    "collapsed": true
   },
   "outputs": [],
   "source": [
    "del days[len(days)-1]\n",
    "print(days)\n",
    "days.remove(\"16\")\n",
    "print(days)\n",
    "t1=days.pop(2)\n",
    "print(\"t1=\",t1)\n",
    "print(\"days=\",days)"
   ]
  },
  {
   "cell_type": "code",
   "execution_count": null,
   "metadata": {
    "collapsed": true
   },
   "outputs": [],
   "source": [
    "days=[\"1\",\"13\",\"2\",\"3\",\"4\",\"5\",\"6\",\"13\",\"7\"]\n",
    "days.remove(\"13\")\n",
    "print(days)"
   ]
  },
  {
   "cell_type": "markdown",
   "metadata": {},
   "source": [
    "The concept of mutable and immutable objects\n",
    "In mutable objects reference is used for the variable assignment.\n",
    "See example below:"
   ]
  },
  {
   "cell_type": "code",
   "execution_count": null,
   "metadata": {
    "collapsed": true,
    "scrolled": true
   },
   "outputs": [],
   "source": [
    "a=[1,2,4,5]\n",
    "b=a\n",
    "b[0]=2\n",
    "print(\"b=\",b)\n",
    "print(\"a=\",a)"
   ]
  },
  {
   "cell_type": "code",
   "execution_count": null,
   "metadata": {
    "collapsed": true
   },
   "outputs": [],
   "source": [
    "a=[1,2,4,5]\n",
    "b=a.copy()\n",
    "b[0]=2\n",
    "print(\"b=\",b)\n",
    "print(\"a=\",a)"
   ]
  },
  {
   "cell_type": "markdown",
   "metadata": {},
   "source": [
    "### Use of list comprehesion"
   ]
  },
  {
   "cell_type": "code",
   "execution_count": null,
   "metadata": {
    "collapsed": true
   },
   "outputs": [],
   "source": [
    "list(range(1,6))"
   ]
  },
  {
   "cell_type": "code",
   "execution_count": null,
   "metadata": {
    "collapsed": true
   },
   "outputs": [],
   "source": [
    "L1=tuple(range(1,6))\n",
    "print(L1)"
   ]
  },
  {
   "cell_type": "code",
   "execution_count": null,
   "metadata": {
    "collapsed": true
   },
   "outputs": [],
   "source": [
    "list(range(1,6))"
   ]
  },
  {
   "cell_type": "code",
   "execution_count": null,
   "metadata": {
    "collapsed": true
   },
   "outputs": [],
   "source": [
    "#Example to show how to generate a list with list comprehension\n",
    "L2=[number for number in range(1,6) if number%2==1]\n",
    "print(L2)\n"
   ]
  },
  {
   "cell_type": "code",
   "execution_count": null,
   "metadata": {
    "collapsed": true
   },
   "outputs": [],
   "source": [
    "L2=[]\n",
    "for i in range(1,6):\n",
    "    if i%2==1:\n",
    "        L2.append(i)\n",
    "print(L2)"
   ]
  },
  {
   "cell_type": "code",
   "execution_count": null,
   "metadata": {
    "collapsed": true
   },
   "outputs": [],
   "source": [
    "L1=[1,2,3,5,17,-1,10,11,12]\n"
   ]
  },
  {
   "cell_type": "code",
   "execution_count": null,
   "metadata": {
    "collapsed": true
   },
   "outputs": [],
   "source": [
    "#Another example to use list comprehension\n",
    "L1=[1,2,3]\n",
    "L2=[1,3,5,7,9,11]\n",
    "L3=[i*2 for i in L2 if i in L1]\n",
    "print(L3)"
   ]
  },
  {
   "cell_type": "code",
   "execution_count": null,
   "metadata": {
    "collapsed": true
   },
   "outputs": [],
   "source": [
    "L1=[1,2,3]\n",
    "L2=[1,3,5,7,9,11]\n",
    "L3=[]\n",
    "for i in L2:\n",
    "    if i in L1:\n",
    "        L3.append(i*2)\n",
    "print(L3)"
   ]
  },
  {
   "cell_type": "code",
   "execution_count": null,
   "metadata": {
    "collapsed": true
   },
   "outputs": [],
   "source": [
    "L1=[1,2,3,2,4,5,5,2]\n",
    "L2=[2,5]\n",
    "[i for i in L1 if i not in L2]\n"
   ]
  },
  {
   "cell_type": "code",
   "execution_count": 30,
   "metadata": {
    "collapsed": false
   },
   "outputs": [
    {
     "data": {
      "text/plain": [
       "[0, 2]"
      ]
     },
     "execution_count": 30,
     "metadata": {},
     "output_type": "execute_result"
    }
   ],
   "source": [
    "#To get the position of the list element where its value equals to 1\n",
    "L1=[1,2,1,3,4]\n",
    "[i for i in range(len(L1)) if L1[i]==1]"
   ]
  },
  {
   "cell_type": "markdown",
   "metadata": {},
   "source": [
    "## Tuple"
   ]
  },
  {
   "cell_type": "code",
   "execution_count": null,
   "metadata": {
    "collapsed": true
   },
   "outputs": [],
   "source": [
    "#To create tuple use the following methods:\n",
    "t1=(1,)\n",
    "type(t1)\n",
    "t2=tuple([1,2,4])\n",
    "print(\"t2=\",t2)\n",
    "print(\"Type of t2 is \",type(t2))\n"
   ]
  },
  {
   "cell_type": "markdown",
   "metadata": {},
   "source": [
    "## Dictionary"
   ]
  },
  {
   "cell_type": "code",
   "execution_count": null,
   "metadata": {
    "collapsed": true
   },
   "outputs": [],
   "source": [
    "test1={\"Monday\":\"Shopping\",\"Tuesday\":\"Reading\",\"Wednesday\":\"Sleeping\",\"Thursday\":\"Working\",\"Friday\":\"Reading\"}\n",
    "print(\"test1=\",test1)"
   ]
  },
  {
   "cell_type": "code",
   "execution_count": null,
   "metadata": {
    "collapsed": true
   },
   "outputs": [],
   "source": [
    "print(\"The value for the key 'Monday' is \",test1[\"Monday\"])"
   ]
  },
  {
   "cell_type": "code",
   "execution_count": null,
   "metadata": {
    "collapsed": true
   },
   "outputs": [],
   "source": [
    "test1[\"Monday\"]=\"Sleeping\"\n",
    "print(test1)"
   ]
  },
  {
   "cell_type": "code",
   "execution_count": null,
   "metadata": {
    "collapsed": true
   },
   "outputs": [],
   "source": [
    "#To get the keys of the dictionary and store it as a separate list object:\n",
    "list(test1.keys())\n",
    "list(test1.values())\n",
    "print(\"The keys in the dictionary are \",list(test1.keys()))\n",
    "print(\"The values in the dictionary are \",list(test1.values()))\n"
   ]
  },
  {
   "cell_type": "code",
   "execution_count": null,
   "metadata": {
    "collapsed": true
   },
   "outputs": [],
   "source": [
    "#To add one more key value pair\n",
    "test1[\"Saturday\"]=\"Reading\"\n",
    "print(test1)\n",
    "#To delete one particular key value pair\n",
    "del test1[\"Saturday\"]\n",
    "print(test1)"
   ]
  },
  {
   "cell_type": "code",
   "execution_count": null,
   "metadata": {
    "collapsed": true
   },
   "outputs": [],
   "source": [
    "test2={\"Monday\":[\"Shopping\",\"Running\"],\"Tuesday\":[\"Reading\"],\n",
    "       \"Wednesday\":[\"Sleeping\"],\n",
    "       \"Thursday\":\"Working\",\"Friday\":\"Reading\"}\n",
    "test2"
   ]
  },
  {
   "cell_type": "markdown",
   "metadata": {},
   "source": [
    "### Use of dictionary comprehension"
   ]
  },
  {
   "cell_type": "code",
   "execution_count": 17,
   "metadata": {
    "collapsed": false
   },
   "outputs": [
    {
     "data": {
      "text/plain": [
       "[('Monday', 'Shopping'),\n",
       " ('Tuesday', 'Reading'),\n",
       " ('Wednesday', 'Sleeping'),\n",
       " ('Thursday', 'Working'),\n",
       " ('Friday', 'Reading')]"
      ]
     },
     "execution_count": 17,
     "metadata": {},
     "output_type": "execute_result"
    }
   ],
   "source": [
    "list(test1.items())"
   ]
  },
  {
   "cell_type": "code",
   "execution_count": 18,
   "metadata": {
    "collapsed": false
   },
   "outputs": [
    {
     "data": {
      "text/plain": [
       "{'Wednesday': 'Sleeping'}"
      ]
     },
     "execution_count": 18,
     "metadata": {},
     "output_type": "execute_result"
    }
   ],
   "source": [
    "{item1:item2 for item1, item2 in test1.items() if item2==\"Sleeping\"}"
   ]
  },
  {
   "cell_type": "code",
   "execution_count": 19,
   "metadata": {
    "collapsed": false
   },
   "outputs": [
    {
     "name": "stdout",
     "output_type": "stream",
     "text": [
      "{'Monday': 'Shopping', 'Tuesday': 'Reading', 'Wednesday': 'Sleeping', 'Thursday': 'Working', 'Friday': 'Reading'}\n"
     ]
    },
    {
     "data": {
      "text/plain": [
       "['Wednesday']"
      ]
     },
     "execution_count": 19,
     "metadata": {},
     "output_type": "execute_result"
    }
   ],
   "source": [
    "print(test1)\n",
    "\n",
    "[item1 for item1, item2 in test1.items() if item2==\"Sleeping\"]"
   ]
  },
  {
   "cell_type": "code",
   "execution_count": 17,
   "metadata": {
    "collapsed": false
   },
   "outputs": [
    {
     "data": {
      "text/plain": [
       "[(3, 4)]"
      ]
     },
     "execution_count": 17,
     "metadata": {},
     "output_type": "execute_result"
    }
   ],
   "source": [
    "dict1={(1,2):[1,2,3,4],(2,3):[2,3,4,5,8],(3,4):[1,2,3,4,5,6]}\n",
    "\n",
    "[item1 for item1,item2 in dict1.items() if len(item2)>5]"
   ]
  },
  {
   "cell_type": "code",
   "execution_count": 18,
   "metadata": {
    "collapsed": false
   },
   "outputs": [
    {
     "name": "stdout",
     "output_type": "stream",
     "text": [
      "{'Monday': 'Sleeping', 'Sunday': 'Sleeping'}\n"
     ]
    }
   ],
   "source": [
    "list1=[\"Monday\",\"Sunday\"]\n",
    "list2=[\"Sleeping\",\"Sleeping\"]\n",
    "dict1=dict(zip(list1,list2))\n",
    "print(dict1)\n"
   ]
  },
  {
   "cell_type": "code",
   "execution_count": 20,
   "metadata": {
    "collapsed": false
   },
   "outputs": [
    {
     "data": {
      "text/plain": [
       "[('Monday', 'Sleeping'), ('Sunday', 'Sleeping')]"
      ]
     },
     "execution_count": 20,
     "metadata": {},
     "output_type": "execute_result"
    }
   ],
   "source": [
    "list(zip(list1,list2))"
   ]
  },
  {
   "cell_type": "code",
   "execution_count": 47,
   "metadata": {
    "collapsed": false
   },
   "outputs": [
    {
     "data": {
      "text/plain": [
       "False"
      ]
     },
     "execution_count": 47,
     "metadata": {},
     "output_type": "execute_result"
    }
   ],
   "source": [
    "L1=[1,2,3,2,3,5,6,6]\n",
    "len(L1)==len(set(L1))"
   ]
  },
  {
   "cell_type": "markdown",
   "metadata": {},
   "source": [
    "Quiz:\n",
    "Filter out the weekdays where the task is reading and save it as a list object"
   ]
  },
  {
   "cell_type": "code",
   "execution_count": 22,
   "metadata": {
    "collapsed": false
   },
   "outputs": [
    {
     "data": {
      "text/plain": [
       "'Sleeping'"
      ]
     },
     "execution_count": 22,
     "metadata": {},
     "output_type": "execute_result"
    }
   ],
   "source": [
    "test1.get(\"Monday\",\"nothing\")"
   ]
  },
  {
   "cell_type": "code",
   "execution_count": 23,
   "metadata": {
    "collapsed": false
   },
   "outputs": [
    {
     "data": {
      "text/plain": [
       "'nothing'"
      ]
     },
     "execution_count": 23,
     "metadata": {},
     "output_type": "execute_result"
    }
   ],
   "source": [
    "test1.get(\"Sunday\",\"nothing\")"
   ]
  },
  {
   "cell_type": "markdown",
   "metadata": {
    "collapsed": true
   },
   "source": [
    "## Set"
   ]
  },
  {
   "cell_type": "code",
   "execution_count": 34,
   "metadata": {
    "collapsed": false
   },
   "outputs": [
    {
     "name": "stdout",
     "output_type": "stream",
     "text": [
      "['Sleeping', 'Reading', 'Sleeping', 'Working', 'Reading']\n"
     ]
    },
    {
     "data": {
      "text/plain": [
       "{'Reading', 'Sleeping', 'Working'}"
      ]
     },
     "execution_count": 34,
     "metadata": {},
     "output_type": "execute_result"
    }
   ],
   "source": [
    "print(list(test1.values()))\n",
    "\n",
    "set(list(test1.values()))"
   ]
  },
  {
   "cell_type": "code",
   "execution_count": 42,
   "metadata": {
    "collapsed": true
   },
   "outputs": [],
   "source": [
    "import sqlobject"
   ]
  },
  {
   "cell_type": "markdown",
   "metadata": {},
   "source": [
    "# Use of NumPy package"
   ]
  },
  {
   "cell_type": "code",
   "execution_count": 32,
   "metadata": {
    "collapsed": false
   },
   "outputs": [
    {
     "name": "stdout",
     "output_type": "stream",
     "text": [
      "[[1 2 3]\n",
      " [4 5 6]]\n"
     ]
    },
    {
     "data": {
      "text/plain": [
       "numpy.ndarray"
      ]
     },
     "execution_count": 32,
     "metadata": {},
     "output_type": "execute_result"
    }
   ],
   "source": [
    "import numpy as np\n",
    "x2=np.array([[1,2,3],[4,5,6]])\n",
    "print(x2)\n",
    "type(x2)\n"
   ]
  },
  {
   "cell_type": "code",
   "execution_count": 3,
   "metadata": {
    "collapsed": false
   },
   "outputs": [
    {
     "name": "stdout",
     "output_type": "stream",
     "text": [
      "2\n",
      "(2, 3)\n",
      "6\n"
     ]
    }
   ],
   "source": [
    "print(x2.ndim)\n",
    "print(x2.shape)\n",
    "print(x2.size)"
   ]
  },
  {
   "cell_type": "code",
   "execution_count": 4,
   "metadata": {
    "collapsed": false
   },
   "outputs": [
    {
     "name": "stdout",
     "output_type": "stream",
     "text": [
      "[1 2 3 4 5 6]\n",
      "[[1 2 3]\n",
      " [4 5 6]]\n",
      "(2, 3)\n"
     ]
    }
   ],
   "source": [
    "x=np.array([1,2,3])\n",
    "y=np.array([4,5,6])\n",
    "print(np.concatenate([x,y]))\n",
    "x3=np.vstack([x,y])\n",
    "print(x3)\n",
    "print(x3.shape)\n"
   ]
  },
  {
   "cell_type": "code",
   "execution_count": 5,
   "metadata": {
    "collapsed": false
   },
   "outputs": [
    {
     "data": {
      "text/plain": [
       "array([False, False, False], dtype=bool)"
      ]
     },
     "execution_count": 5,
     "metadata": {},
     "output_type": "execute_result"
    }
   ],
   "source": [
    "#Universal functions\n",
    "x>y"
   ]
  },
  {
   "cell_type": "code",
   "execution_count": 24,
   "metadata": {
    "collapsed": false
   },
   "outputs": [
    {
     "data": {
      "text/plain": [
       "array([5, 7, 9])"
      ]
     },
     "execution_count": 24,
     "metadata": {},
     "output_type": "execute_result"
    }
   ],
   "source": [
    "x+y"
   ]
  },
  {
   "cell_type": "code",
   "execution_count": 7,
   "metadata": {
    "collapsed": false
   },
   "outputs": [
    {
     "data": {
      "text/plain": [
       "[2, 3, 4]"
      ]
     },
     "execution_count": 7,
     "metadata": {},
     "output_type": "execute_result"
    }
   ],
   "source": [
    "list(range(2,5))"
   ]
  },
  {
   "cell_type": "code",
   "execution_count": 8,
   "metadata": {
    "collapsed": false
   },
   "outputs": [
    {
     "data": {
      "text/plain": [
       "[[2, 3, 4], [4, 5, 6], [6, 7, 8]]"
      ]
     },
     "execution_count": 8,
     "metadata": {},
     "output_type": "execute_result"
    }
   ],
   "source": [
    "[list(range(i,i+3)) for i in [2,4,6]]"
   ]
  },
  {
   "cell_type": "code",
   "execution_count": 10,
   "metadata": {
    "collapsed": false
   },
   "outputs": [
    {
     "data": {
      "text/plain": [
       "[[2, 3, 4], [4, 5, 6], [6, 7, 8]]"
      ]
     },
     "execution_count": 10,
     "metadata": {},
     "output_type": "execute_result"
    }
   ],
   "source": [
    "L2=[]\n",
    "for i in [2,4,6]:\n",
    "    L2.append(list(range(i,i+3)))\n",
    "L2"
   ]
  },
  {
   "cell_type": "code",
   "execution_count": 25,
   "metadata": {
    "collapsed": false
   },
   "outputs": [
    {
     "name": "stdout",
     "output_type": "stream",
     "text": [
      "[[2, 3, 4], [4, 5, 6], [6, 7, 8]]\n",
      "[[2 3 4]\n",
      " [4 5 6]\n",
      " [6 7 8]]\n",
      "[[2 3]\n",
      " [4 5]]\n",
      "[[2 4]\n",
      " [6 8]]\n"
     ]
    }
   ],
   "source": [
    "print([list(range(i,i+3)) for i in [2,4,6]])\n",
    "\n",
    "x2=np.array([list(range(i,i+3)) for i in [2,4,6]])\n",
    "print(x2)\n",
    "x3=x2[:2,:2]\n",
    "print(x3)\n",
    "x4=x2[::2,::2]\n",
    "print(x4)\n",
    "\n"
   ]
  },
  {
   "cell_type": "code",
   "execution_count": 36,
   "metadata": {
    "collapsed": false
   },
   "outputs": [
    {
     "data": {
      "text/plain": [
       "array([[3, 4],\n",
       "       [5, 6]])"
      ]
     },
     "execution_count": 36,
     "metadata": {},
     "output_type": "execute_result"
    }
   ],
   "source": [
    "x2=np.array([list(range(i,i+3)) for i in [2,4,6]])\n",
    "x3=x2[:2,1:]\n",
    "x3"
   ]
  },
  {
   "cell_type": "code",
   "execution_count": 14,
   "metadata": {
    "collapsed": false
   },
   "outputs": [
    {
     "name": "stdout",
     "output_type": "stream",
     "text": [
      "[[ 2  3  4  5  6]\n",
      " [ 4  5  6  7  8]\n",
      " [ 6  7  8  9 10]]\n"
     ]
    },
    {
     "data": {
      "text/plain": [
       "array([[2, 3, 4],\n",
       "       [4, 5, 6]])"
      ]
     },
     "execution_count": 14,
     "metadata": {},
     "output_type": "execute_result"
    }
   ],
   "source": [
    "x2=np.array([list(range(i,i+5)) for i in [2,4,6]])\n",
    "print(x2)\n",
    "x3=x2[:2,:3]\n",
    "x3"
   ]
  },
  {
   "cell_type": "code",
   "execution_count": 16,
   "metadata": {
    "collapsed": false
   },
   "outputs": [
    {
     "name": "stdout",
     "output_type": "stream",
     "text": [
      "[[ 2  3  4  5  6]\n",
      " [ 4  5  6  7  8]\n",
      " [ 6  7  8  9 10]]\n",
      "[3 7]\n",
      "(2,)\n",
      "[3, 7]\n"
     ]
    }
   ],
   "source": [
    "print(x2)\n",
    "\n",
    "x3=x2[::2,1]\n",
    "print(x3)\n",
    "\n",
    "print(x3.shape)\n",
    "\n",
    "x4=list(x2[::2,1])\n",
    "print(x4)"
   ]
  },
  {
   "cell_type": "code",
   "execution_count": 17,
   "metadata": {
    "collapsed": false
   },
   "outputs": [
    {
     "name": "stdout",
     "output_type": "stream",
     "text": [
      "[[2 3 4]\n",
      " [4 5 6]\n",
      " [6 7 8]]\n",
      "\n",
      "[[2 3]\n",
      " [4 5]]\n",
      "\n",
      "[[20  3]\n",
      " [ 4  5]]\n",
      "\n",
      "[[20  3  4]\n",
      " [ 4  5  6]\n",
      " [ 6  7  8]]\n"
     ]
    }
   ],
   "source": [
    "x2=np.array([list(range(i,i+3)) for i in [2,4,6]])\n",
    "print(x2)\n",
    "print()\n",
    "x3=x2[:2,:2]\n",
    "print(x3)\n",
    "print()\n",
    "\n",
    "x3[0,0]=20\n",
    "print(x3)\n",
    "print()\n",
    "print(x2)"
   ]
  },
  {
   "cell_type": "code",
   "execution_count": 10,
   "metadata": {
    "collapsed": false
   },
   "outputs": [
    {
     "name": "stdout",
     "output_type": "stream",
     "text": [
      "[[2 3 4]\n",
      " [4 5 6]\n",
      " [6 7 8]]\n",
      "\n",
      "[[2 3]\n",
      " [4 5]]\n",
      "\n",
      "[[20  3]\n",
      " [ 4  5]]\n",
      "\n",
      "[[2 3 4]\n",
      " [4 5 6]\n",
      " [6 7 8]]\n"
     ]
    }
   ],
   "source": [
    "x2=np.array([list(range(i,i+3)) for i in [2,4,6]])\n",
    "print(x2)\n",
    "print()\n",
    "x3=x2[:2,:2].copy()\n",
    "print(x3)\n",
    "print()\n",
    "\n",
    "x3[0,0]=20\n",
    "print(x3)\n",
    "print()\n",
    "print(x2)"
   ]
  },
  {
   "cell_type": "code",
   "execution_count": 25,
   "metadata": {
    "collapsed": false
   },
   "outputs": [
    {
     "name": "stdout",
     "output_type": "stream",
     "text": [
      "[1 2 3 4 5 6 7 8 9]\n"
     ]
    },
    {
     "data": {
      "text/plain": [
       "array([[1, 2, 3],\n",
       "       [4, 5, 6],\n",
       "       [7, 8, 9]])"
      ]
     },
     "execution_count": 25,
     "metadata": {},
     "output_type": "execute_result"
    }
   ],
   "source": [
    "array1=np.arange(1,10)\n",
    "print(array1)\n",
    "type(array1)\n",
    "array1.shape\n",
    "array1.ndim\n",
    "grid = np.arange(1, 10).reshape((3, 3))\n",
    "grid"
   ]
  },
  {
   "cell_type": "code",
   "execution_count": 55,
   "metadata": {
    "collapsed": false
   },
   "outputs": [
    {
     "name": "stdout",
     "output_type": "stream",
     "text": [
      "[[2 3 4]\n",
      " [4 5 6]\n",
      " [6 7 8]]\n"
     ]
    },
    {
     "data": {
      "text/plain": [
       "array([[2, 3, 4, 4, 5, 6, 6, 7, 8]])"
      ]
     },
     "execution_count": 55,
     "metadata": {},
     "output_type": "execute_result"
    }
   ],
   "source": [
    "x2=np.array([list(range(i,i+3)) for i in [2,4,6]])\n",
    "print(x2)\n",
    "x4=x2.reshape(1,9)\n",
    "x4"
   ]
  },
  {
   "cell_type": "markdown",
   "metadata": {},
   "source": [
    "## Use of Pandas"
   ]
  },
  {
   "cell_type": "code",
   "execution_count": 56,
   "metadata": {
    "collapsed": false
   },
   "outputs": [
    {
     "name": "stdout",
     "output_type": "stream",
     "text": [
      "0    0.25\n",
      "1    0.50\n",
      "2    0.75\n",
      "3    1.00\n",
      "dtype: float64\n"
     ]
    }
   ],
   "source": [
    "import pandas as pd\n",
    "data = pd.Series([0.25, 0.5, 0.75, 1.0])\n",
    "print(data)"
   ]
  },
  {
   "cell_type": "code",
   "execution_count": 32,
   "metadata": {
    "collapsed": false
   },
   "outputs": [
    {
     "name": "stdout",
     "output_type": "stream",
     "text": [
      "a    0.25\n",
      "b    0.50\n",
      "c    0.75\n",
      "d    1.00\n",
      "dtype: float64\n"
     ]
    }
   ],
   "source": [
    "import pandas as pd\n",
    "data = pd.Series([0.25, 0.5, 0.75, 1.0],index=[\"a\",\"b\",\"c\",\"d\"])\n",
    "print(data)"
   ]
  },
  {
   "cell_type": "code",
   "execution_count": 57,
   "metadata": {
    "collapsed": false
   },
   "outputs": [
    {
     "data": {
      "text/plain": [
       "a    False\n",
       "b    False\n",
       "c     True\n",
       "d     True\n",
       "dtype: bool"
      ]
     },
     "execution_count": 57,
     "metadata": {},
     "output_type": "execute_result"
    }
   ],
   "source": [
    "import pandas as pd\n",
    "data = pd.Series([0.25,0.5,0.75,1.0],index=['a','b','c','d'])\n",
    "data>0.6"
   ]
  },
  {
   "cell_type": "code",
   "execution_count": 27,
   "metadata": {
    "collapsed": false
   },
   "outputs": [
    {
     "data": {
      "text/plain": [
       "c    0.75\n",
       "d    1.00\n",
       "dtype: float64"
      ]
     },
     "execution_count": 27,
     "metadata": {},
     "output_type": "execute_result"
    }
   ],
   "source": [
    "import pandas as pd\n",
    "data = pd.Series([0.25,0.5,0.75,1.0],index=['a','b','c','d'])\n",
    "data>0.6\n",
    "data[data>0.6]"
   ]
  },
  {
   "cell_type": "code",
   "execution_count": 58,
   "metadata": {
    "collapsed": false
   },
   "outputs": [
    {
     "data": {
      "text/plain": [
       "a    0.25\n",
       "b    0.50\n",
       "dtype: float64"
      ]
     },
     "execution_count": 58,
     "metadata": {},
     "output_type": "execute_result"
    }
   ],
   "source": [
    "data.iloc[0:2]\n"
   ]
  },
  {
   "cell_type": "code",
   "execution_count": 59,
   "metadata": {
    "collapsed": false
   },
   "outputs": [
    {
     "data": {
      "text/plain": [
       "a    0.25\n",
       "c    0.75\n",
       "dtype: float64"
      ]
     },
     "execution_count": 59,
     "metadata": {},
     "output_type": "execute_result"
    }
   ],
   "source": [
    "data.loc[[\"a\",\"c\"]]"
   ]
  },
  {
   "cell_type": "code",
   "execution_count": 28,
   "metadata": {
    "collapsed": false
   },
   "outputs": [
    {
     "data": {
      "text/plain": [
       "i    100\n",
       "j    102\n",
       "dtype: int64"
      ]
     },
     "execution_count": 28,
     "metadata": {},
     "output_type": "execute_result"
    }
   ],
   "source": [
    "import pandas as pd\n",
    "L1=[1,3,5,4,6,7,8,10,100,102]\n",
    "S1=pd.Series(L1,index=[\"a\",\"b\",\"c\",\"d\",\"e\",\"f\",\"g\",\"h\",\"i\",\"j\"])\n",
    "S1[S1>=100]\n",
    "S1.iloc[8:10]\n",
    "S1.loc[\"i\":\"j\"]\n",
    "S1.loc[[\"i\",\"j\"]]\n",
    "\n"
   ]
  },
  {
   "cell_type": "code",
   "execution_count": 41,
   "metadata": {
    "collapsed": false
   },
   "outputs": [
    {
     "name": "stdout",
     "output_type": "stream",
     "text": [
      "a    0.25\n",
      "b    0.50\n",
      "c    0.75\n",
      "d    1.00\n",
      "dtype: float64\n"
     ]
    },
    {
     "data": {
      "text/plain": [
       "b    0.50\n",
       "c    0.75\n",
       "dtype: float64"
      ]
     },
     "execution_count": 41,
     "metadata": {},
     "output_type": "execute_result"
    }
   ],
   "source": [
    "#There are two ways of filtering on pandas's series or dataframe object\n",
    "data = pd.Series([0.25,0.5,0.75,1.0],index=['a','b','c','d'])\n",
    "print(data)\n",
    "#method 1: by masking\n",
    "#It will filter based on the index values of the return \n",
    "#boolean series object\n",
    "data[data>0.6]\n",
    "#Method 2: By slicing position\n",
    "data.iloc[0:2]\n",
    "#Method 3: by index \n",
    "\n",
    "data.loc[\"b\":\"c\"]\n",
    "                                               \n",
    "                                               \n",
    "\n"
   ]
  },
  {
   "cell_type": "code",
   "execution_count": 30,
   "metadata": {
    "collapsed": false
   },
   "outputs": [
    {
     "data": {
      "text/plain": [
       "A1    1\n",
       "A2    2\n",
       "A3    3\n",
       "A4    4\n",
       "dtype: int64"
      ]
     },
     "execution_count": 30,
     "metadata": {},
     "output_type": "execute_result"
    }
   ],
   "source": [
    "import pandas as pd\n",
    "Dict1={\"A1\":1,\"A2\":2,\"A3\":3,\"A4\":4}\n",
    "ID=pd.Series(Dict1)\n",
    "ID"
   ]
  },
  {
   "cell_type": "code",
   "execution_count": 32,
   "metadata": {
    "collapsed": false
   },
   "outputs": [
    {
     "data": {
      "text/html": [
       "<div>\n",
       "<style>\n",
       "    .dataframe thead tr:only-child th {\n",
       "        text-align: right;\n",
       "    }\n",
       "\n",
       "    .dataframe thead th {\n",
       "        text-align: left;\n",
       "    }\n",
       "\n",
       "    .dataframe tbody tr th {\n",
       "        vertical-align: top;\n",
       "    }\n",
       "</style>\n",
       "<table border=\"1\" class=\"dataframe\">\n",
       "  <thead>\n",
       "    <tr style=\"text-align: right;\">\n",
       "      <th></th>\n",
       "      <th>First_Name</th>\n",
       "      <th>ID</th>\n",
       "      <th>Income</th>\n",
       "      <th>Last_Name</th>\n",
       "      <th>Full_Name</th>\n",
       "    </tr>\n",
       "  </thead>\n",
       "  <tbody>\n",
       "    <tr>\n",
       "      <th>A1</th>\n",
       "      <td>Peter</td>\n",
       "      <td>1</td>\n",
       "      <td>1000</td>\n",
       "      <td>Lee</td>\n",
       "      <td>Peter Lee</td>\n",
       "    </tr>\n",
       "    <tr>\n",
       "      <th>A2</th>\n",
       "      <td>Victor</td>\n",
       "      <td>2</td>\n",
       "      <td>20000</td>\n",
       "      <td>Chan</td>\n",
       "      <td>Victor Chan</td>\n",
       "    </tr>\n",
       "    <tr>\n",
       "      <th>A3</th>\n",
       "      <td>Albert</td>\n",
       "      <td>3</td>\n",
       "      <td>3000</td>\n",
       "      <td>Tam</td>\n",
       "      <td>Albert Tam</td>\n",
       "    </tr>\n",
       "    <tr>\n",
       "      <th>A4</th>\n",
       "      <td>Alice</td>\n",
       "      <td>4</td>\n",
       "      <td>4000</td>\n",
       "      <td>Cheung</td>\n",
       "      <td>Alice Cheung</td>\n",
       "    </tr>\n",
       "  </tbody>\n",
       "</table>\n",
       "</div>"
      ],
      "text/plain": [
       "   First_Name  ID  Income Last_Name     Full_Name\n",
       "A1      Peter   1    1000       Lee     Peter Lee\n",
       "A2     Victor   2   20000      Chan   Victor Chan\n",
       "A3     Albert   3    3000       Tam    Albert Tam\n",
       "A4      Alice   4    4000    Cheung  Alice Cheung"
      ]
     },
     "execution_count": 32,
     "metadata": {},
     "output_type": "execute_result"
    }
   ],
   "source": [
    "#Exercise\n",
    "#Create the dataframe for the following dictionaries:\n",
    "#column name for Dict1 is \"ID\"\n",
    "#column namne for Dict2 is \"Name\"\n",
    "#column name for Dict3 is \"Income\"\n",
    "import pandas as pd\n",
    "Dict1={\"A1\":1,\"A2\":2,\"A3\":3,\"A4\":4}\n",
    "Dict2={\"A1\":\"Peter\",\"A2\":\"Victor\",\"A3\":\"Albert\",\"A4\":\"Alice\"}\n",
    "Dict3={\"A1\":1000,\"A2\":20000,\"A3\":3000,\"A4\":4000}\n",
    "Dict4={\"A1\":\"Lee\",\"A2\":\"Chan\",\"A3\":\"Tam\",\"A4\":\"Cheung\"}\n",
    "\n",
    "ID=pd.Series(Dict1)\n",
    "First_Name=pd.Series(Dict2)\n",
    "Income=pd.Series(Dict3)\n",
    "Last_Name=pd.Series(Dict4)\n",
    "df=pd.DataFrame({\"ID\":ID,\"First_Name\":First_Name,\n",
    "                 \"Income\":Income,\"Last_Name\":Last_Name})\n",
    "\n",
    "df[\"Full_Name\"]=df[\"First_Name\"]+\" \"+df[\"Last_Name\"]\n",
    "\n",
    "df\n"
   ]
  },
  {
   "cell_type": "code",
   "execution_count": 61,
   "metadata": {
    "collapsed": false
   },
   "outputs": [
    {
     "data": {
      "text/plain": [
       "A1    1\n",
       "A2    2\n",
       "A3    3\n",
       "A4    4\n",
       "dtype: int64"
      ]
     },
     "execution_count": 61,
     "metadata": {},
     "output_type": "execute_result"
    }
   ],
   "source": [
    "import pandas as pd\n",
    "Dict1={\"A1\":1,\"A2\":2,\"A3\":3,\"A4\":4}\n",
    "ID=pd.Series(Dict1)\n",
    "ID"
   ]
  },
  {
   "cell_type": "code",
   "execution_count": 55,
   "metadata": {
    "collapsed": false
   },
   "outputs": [
    {
     "data": {
      "text/html": [
       "<div>\n",
       "<style>\n",
       "    .dataframe thead tr:only-child th {\n",
       "        text-align: right;\n",
       "    }\n",
       "\n",
       "    .dataframe thead th {\n",
       "        text-align: left;\n",
       "    }\n",
       "\n",
       "    .dataframe tbody tr th {\n",
       "        vertical-align: top;\n",
       "    }\n",
       "</style>\n",
       "<table border=\"1\" class=\"dataframe\">\n",
       "  <thead>\n",
       "    <tr style=\"text-align: right;\">\n",
       "      <th></th>\n",
       "      <th>First_Name</th>\n",
       "      <th>ID</th>\n",
       "      <th>Income</th>\n",
       "      <th>Last_Name</th>\n",
       "      <th>Full_Name</th>\n",
       "    </tr>\n",
       "  </thead>\n",
       "  <tbody>\n",
       "    <tr>\n",
       "      <th>A1</th>\n",
       "      <td>Peter</td>\n",
       "      <td>1</td>\n",
       "      <td>1000</td>\n",
       "      <td>10</td>\n",
       "      <td>Peter 10</td>\n",
       "    </tr>\n",
       "  </tbody>\n",
       "</table>\n",
       "</div>"
      ],
      "text/plain": [
       "   First_Name  ID  Income Last_Name Full_Name\n",
       "A1      Peter   1    1000        10  Peter 10"
      ]
     },
     "execution_count": 55,
     "metadata": {},
     "output_type": "execute_result"
    }
   ],
   "source": [
    "df[df.Income<3000]"
   ]
  },
  {
   "cell_type": "code",
   "execution_count": 65,
   "metadata": {
    "collapsed": false
   },
   "outputs": [
    {
     "data": {
      "text/html": [
       "<div>\n",
       "<style>\n",
       "    .dataframe thead tr:only-child th {\n",
       "        text-align: right;\n",
       "    }\n",
       "\n",
       "    .dataframe thead th {\n",
       "        text-align: left;\n",
       "    }\n",
       "\n",
       "    .dataframe tbody tr th {\n",
       "        vertical-align: top;\n",
       "    }\n",
       "</style>\n",
       "<table border=\"1\" class=\"dataframe\">\n",
       "  <thead>\n",
       "    <tr style=\"text-align: right;\">\n",
       "      <th></th>\n",
       "      <th>First_Name</th>\n",
       "      <th>ID</th>\n",
       "      <th>Income</th>\n",
       "      <th>Last_Name</th>\n",
       "    </tr>\n",
       "  </thead>\n",
       "  <tbody>\n",
       "    <tr>\n",
       "      <th>A1</th>\n",
       "      <td>Peter</td>\n",
       "      <td>1</td>\n",
       "      <td>1000</td>\n",
       "      <td>Lee</td>\n",
       "    </tr>\n",
       "    <tr>\n",
       "      <th>A2</th>\n",
       "      <td>Victor</td>\n",
       "      <td>2</td>\n",
       "      <td>20000</td>\n",
       "      <td>Chan</td>\n",
       "    </tr>\n",
       "    <tr>\n",
       "      <th>A3</th>\n",
       "      <td>Albert</td>\n",
       "      <td>3</td>\n",
       "      <td>3000</td>\n",
       "      <td>Tam</td>\n",
       "    </tr>\n",
       "    <tr>\n",
       "      <th>A4</th>\n",
       "      <td>Alice</td>\n",
       "      <td>4</td>\n",
       "      <td>2000</td>\n",
       "      <td>Cheung</td>\n",
       "    </tr>\n",
       "  </tbody>\n",
       "</table>\n",
       "</div>"
      ],
      "text/plain": [
       "   First_Name  ID  Income Last_Name\n",
       "A1      Peter   1    1000       Lee\n",
       "A2     Victor   2   20000      Chan\n",
       "A3     Albert   3    3000       Tam\n",
       "A4      Alice   4    2000    Cheung"
      ]
     },
     "execution_count": 65,
     "metadata": {},
     "output_type": "execute_result"
    }
   ],
   "source": [
    "import pandas as pd\n",
    "Dict1={\"A1\":1,\"A2\":2,\"A3\":3,\"A4\":4}\n",
    "Dict2={\"A1\":\"Peter\",\"A2\":\"Victor\",\"A3\":\"Albert\",\"A4\":\"Alice\"}\n",
    "Dict3={\"A1\":1000,\"A2\":20000,\"A3\":3000,\"A4\":2000}\n",
    "Dict4={\"A1\":\"Lee\",\"A2\":\"Chan\",\"A3\":\"Tam\",\"A4\":\"Cheung\"}\n",
    "\n",
    "ID=pd.Series(Dict1)\n",
    "First_Name=pd.Series(Dict2)\n",
    "Income=pd.Series(Dict3)\n",
    "Last_Name=pd.Series(Dict4)\n",
    "df=pd.DataFrame({\"ID\":ID,\"First_Name\":First_Name,\n",
    "                 \"Income\":Income,\"Last_Name\":Last_Name})\n",
    "df"
   ]
  },
  {
   "cell_type": "code",
   "execution_count": 71,
   "metadata": {
    "collapsed": false
   },
   "outputs": [
    {
     "data": {
      "text/plain": [
       "['Peter', 'Albert', 'Alice']"
      ]
     },
     "execution_count": 71,
     "metadata": {},
     "output_type": "execute_result"
    }
   ],
   "source": [
    "list(df[df.Income<=3000][\"First_Name\"].values)"
   ]
  },
  {
   "cell_type": "code",
   "execution_count": 64,
   "metadata": {
    "collapsed": false
   },
   "outputs": [
    {
     "data": {
      "text/html": [
       "<div>\n",
       "<style>\n",
       "    .dataframe thead tr:only-child th {\n",
       "        text-align: right;\n",
       "    }\n",
       "\n",
       "    .dataframe thead th {\n",
       "        text-align: left;\n",
       "    }\n",
       "\n",
       "    .dataframe tbody tr th {\n",
       "        vertical-align: top;\n",
       "    }\n",
       "</style>\n",
       "<table border=\"1\" class=\"dataframe\">\n",
       "  <thead>\n",
       "    <tr style=\"text-align: right;\">\n",
       "      <th></th>\n",
       "      <th>First_Name</th>\n",
       "      <th>ID</th>\n",
       "      <th>Income</th>\n",
       "      <th>Last_Name</th>\n",
       "      <th>Full_Name</th>\n",
       "    </tr>\n",
       "  </thead>\n",
       "  <tbody>\n",
       "    <tr>\n",
       "      <th>A1</th>\n",
       "      <td>Peter</td>\n",
       "      <td>1</td>\n",
       "      <td>1000</td>\n",
       "      <td>Lee</td>\n",
       "      <td>Peter Lee</td>\n",
       "    </tr>\n",
       "    <tr>\n",
       "      <th>A2</th>\n",
       "      <td>Victor</td>\n",
       "      <td>2</td>\n",
       "      <td>20000</td>\n",
       "      <td>Chan</td>\n",
       "      <td>Victor Chan</td>\n",
       "    </tr>\n",
       "    <tr>\n",
       "      <th>A3</th>\n",
       "      <td>Albert</td>\n",
       "      <td>3</td>\n",
       "      <td>3000</td>\n",
       "      <td>Wu</td>\n",
       "      <td>Albert Wu</td>\n",
       "    </tr>\n",
       "    <tr>\n",
       "      <th>A4</th>\n",
       "      <td>Alice</td>\n",
       "      <td>4</td>\n",
       "      <td>4000</td>\n",
       "      <td>Tam</td>\n",
       "      <td>Alice Tam</td>\n",
       "    </tr>\n",
       "  </tbody>\n",
       "</table>\n",
       "</div>"
      ],
      "text/plain": [
       "   First_Name  ID  Income Last_Name    Full_Name\n",
       "A1      Peter   1    1000       Lee    Peter Lee\n",
       "A2     Victor   2   20000      Chan  Victor Chan\n",
       "A3     Albert   3    3000        Wu    Albert Wu\n",
       "A4      Alice   4    4000       Tam    Alice Tam"
      ]
     },
     "execution_count": 64,
     "metadata": {},
     "output_type": "execute_result"
    }
   ],
   "source": [
    "#Exercise\n",
    "#Create the dataframe for the following dictionaries:\n",
    "#column name for Dict1 is \"ID\"\n",
    "#column namne for Dict2 is \"Name\"\n",
    "#column name for Dict3 is \"Income\"\n",
    "import pandas as pd\n",
    "Dict1={\"A1\":1,\"A2\":2,\"A3\":3,\"A4\":4}\n",
    "Dict2={\"A1\":\"Peter\",\"A2\":\"Victor\",\"A3\":\"Albert\",\"A4\":\"Alice\"}\n",
    "Dict3={\"A1\":1000,\"A2\":20000,\"A3\":3000,\"A4\":2000}\n",
    "Dict4={\"A1\":\"Lee\",\"A2\":\"Chan\",\"A3\":\"Wu\",\"A4\":\"Tam\"}\n",
    "\n",
    "ID=pd.Series(Dict1)\n",
    "First_Name=pd.Series(Dict2)\n",
    "Income=pd.Series(Dict3)\n",
    "Last_Name=pd.Series(Dict4)\n",
    "df=pd.DataFrame({\"ID\":ID,\"First_Name\":First_Name,\n",
    "                 \"Income\":Income,\"Last_Name\":Last_Name})\n",
    "\n",
    "df[\"Last_Name\"]=df[\"Last_Name\"].astype(str)\n",
    "\n",
    "df[\"Full_Name\"]=df[\"First_Name\"]+\" \"+df[\"Last_Name\"]\n",
    "\n",
    "df"
   ]
  },
  {
   "cell_type": "code",
   "execution_count": 33,
   "metadata": {
    "collapsed": false
   },
   "outputs": [
    {
     "name": "stdout",
     "output_type": "stream",
     "text": [
      "California    38332521\n",
      "Florida       19552860\n",
      "Illinois      12882135\n",
      "New York      19651127\n",
      "Texas         26448193\n",
      "dtype: int64\n",
      "              area  population\n",
      "California  423967    38332521\n",
      "Florida     170312    19552860\n",
      "Illinois    149995    12882135\n",
      "New York    141297    19651127\n",
      "Texas       695662    26448193\n"
     ]
    }
   ],
   "source": [
    "import pandas as pd\n",
    "population_dict = {'California': 38332521,\n",
    "                   'Texas': 26448193,\n",
    "                   'New York': 19651127,\n",
    "                   'Florida': 19552860,\n",
    "                   'Illinois': 12882135}\n",
    "population = pd.Series(population_dict)\n",
    "\n",
    "print(population)\n",
    "\n",
    "area_dict = {'California': 423967, 'Texas': 695662, 'New York': 141297,\n",
    "             'Florida': 170312, 'Illinois': 149995}\n",
    "area = pd.Series(area_dict)\n",
    "\n",
    "states = pd.DataFrame({'population': population,\n",
    "                       'area': area})\n",
    "\n",
    "print(states)"
   ]
  },
  {
   "cell_type": "code",
   "execution_count": 34,
   "metadata": {
    "collapsed": false
   },
   "outputs": [
    {
     "name": "stdout",
     "output_type": "stream",
     "text": [
      "              area  population   density\n",
      "California  423967    38332521  0.011060\n",
      "Florida     170312    19552860  0.008710\n",
      "Illinois    149995    12882135  0.011644\n",
      "New York    141297    19651127  0.007190\n",
      "Texas       695662    26448193  0.026303\n"
     ]
    }
   ],
   "source": [
    "#You could just add one extra column with the following method:\n",
    "states[\"density\"]=states[\"area\"]/states[\"population\"]\n",
    "print(states)"
   ]
  },
  {
   "cell_type": "code",
   "execution_count": 29,
   "metadata": {
    "collapsed": false
   },
   "outputs": [
    {
     "name": "stdout",
     "output_type": "stream",
     "text": [
      "              area  population   density\n",
      "California  423967    38332521  0.011060\n",
      "Florida     170312    19552860  0.008710\n",
      "Illinois    149995    12882135  0.011644\n",
      "New York    141297    19651127  0.007190\n",
      "Texas       695662    26448193  0.026303\n",
      "             density    area\n",
      "California  0.011060  423967\n",
      "Florida     0.008710  170312\n",
      "Illinois    0.011644  149995\n",
      "New York    0.007190  141297\n",
      "Texas       0.026303  695662\n"
     ]
    }
   ],
   "source": [
    "print(states)\n",
    "states=states[[\"density\",\"area\"]]\n",
    "print(states)"
   ]
  },
  {
   "cell_type": "code",
   "execution_count": 36,
   "metadata": {
    "collapsed": false
   },
   "outputs": [
    {
     "data": {
      "text/html": [
       "<div>\n",
       "<style>\n",
       "    .dataframe thead tr:only-child th {\n",
       "        text-align: right;\n",
       "    }\n",
       "\n",
       "    .dataframe thead th {\n",
       "        text-align: left;\n",
       "    }\n",
       "\n",
       "    .dataframe tbody tr th {\n",
       "        vertical-align: top;\n",
       "    }\n",
       "</style>\n",
       "<table border=\"1\" class=\"dataframe\">\n",
       "  <thead>\n",
       "    <tr style=\"text-align: right;\">\n",
       "      <th></th>\n",
       "      <th>population</th>\n",
       "      <th>area</th>\n",
       "    </tr>\n",
       "  </thead>\n",
       "  <tbody>\n",
       "    <tr>\n",
       "      <th>California</th>\n",
       "      <td>38332521</td>\n",
       "      <td>423967</td>\n",
       "    </tr>\n",
       "    <tr>\n",
       "      <th>Florida</th>\n",
       "      <td>19552860</td>\n",
       "      <td>170312</td>\n",
       "    </tr>\n",
       "    <tr>\n",
       "      <th>Texas</th>\n",
       "      <td>26448193</td>\n",
       "      <td>695662</td>\n",
       "    </tr>\n",
       "  </tbody>\n",
       "</table>\n",
       "</div>"
      ],
      "text/plain": [
       "            population    area\n",
       "California    38332521  423967\n",
       "Florida       19552860  170312\n",
       "Texas         26448193  695662"
      ]
     },
     "execution_count": 36,
     "metadata": {},
     "output_type": "execute_result"
    }
   ],
   "source": [
    "#To filter the dataframe such that the area is >=150000. \n",
    "#To display only the population and the area columns\n",
    "\n",
    "states[states.area>=150000][[\"population\",\"area\"]]\n"
   ]
  },
  {
   "cell_type": "code",
   "execution_count": 36,
   "metadata": {
    "collapsed": false
   },
   "outputs": [
    {
     "name": "stdout",
     "output_type": "stream",
     "text": [
      "             density    area\n",
      "California  0.011060  423967\n",
      "Florida     0.008710  170312\n",
      "Illinois    0.011644  149995\n",
      "New York    0.007190  141297\n",
      "Texas       0.026303  695662\n",
      "           density    area\n",
      "New York  0.007190  141297\n",
      "Texas     0.026303  695662\n"
     ]
    }
   ],
   "source": [
    "print(states)\n",
    "states=states.loc[[\"New York\",\"Texas\"]]\n",
    "print(states)"
   ]
  },
  {
   "cell_type": "code",
   "execution_count": 24,
   "metadata": {
    "collapsed": false
   },
   "outputs": [
    {
     "name": "stdout",
     "output_type": "stream",
     "text": [
      "California     True\n",
      "Florida       False\n",
      "Illinois       True\n",
      "New York      False\n",
      "Texas          True\n",
      "Name: density, dtype: bool\n"
     ]
    },
    {
     "data": {
      "text/html": [
       "<div>\n",
       "<style>\n",
       "    .dataframe thead tr:only-child th {\n",
       "        text-align: right;\n",
       "    }\n",
       "\n",
       "    .dataframe thead th {\n",
       "        text-align: left;\n",
       "    }\n",
       "\n",
       "    .dataframe tbody tr th {\n",
       "        vertical-align: top;\n",
       "    }\n",
       "</style>\n",
       "<table border=\"1\" class=\"dataframe\">\n",
       "  <thead>\n",
       "    <tr style=\"text-align: right;\">\n",
       "      <th></th>\n",
       "      <th>area</th>\n",
       "      <th>population</th>\n",
       "      <th>density</th>\n",
       "    </tr>\n",
       "  </thead>\n",
       "  <tbody>\n",
       "    <tr>\n",
       "      <th>California</th>\n",
       "      <td>423967</td>\n",
       "      <td>38332521</td>\n",
       "      <td>0.011060</td>\n",
       "    </tr>\n",
       "    <tr>\n",
       "      <th>Illinois</th>\n",
       "      <td>149995</td>\n",
       "      <td>12882135</td>\n",
       "      <td>0.011644</td>\n",
       "    </tr>\n",
       "    <tr>\n",
       "      <th>Texas</th>\n",
       "      <td>695662</td>\n",
       "      <td>26448193</td>\n",
       "      <td>0.026303</td>\n",
       "    </tr>\n",
       "  </tbody>\n",
       "</table>\n",
       "</div>"
      ],
      "text/plain": [
       "              area  population   density\n",
       "California  423967    38332521  0.011060\n",
       "Illinois    149995    12882135  0.011644\n",
       "Texas       695662    26448193  0.026303"
      ]
     },
     "execution_count": 24,
     "metadata": {},
     "output_type": "execute_result"
    }
   ],
   "source": [
    "states\n",
    "\n",
    "print(states.density>0.01)\n",
    "\n",
    "states[states.density>0.01]"
   ]
  },
  {
   "cell_type": "code",
   "execution_count": 37,
   "metadata": {
    "collapsed": false
   },
   "outputs": [
    {
     "data": {
      "text/html": [
       "<div>\n",
       "<style>\n",
       "    .dataframe thead tr:only-child th {\n",
       "        text-align: right;\n",
       "    }\n",
       "\n",
       "    .dataframe thead th {\n",
       "        text-align: left;\n",
       "    }\n",
       "\n",
       "    .dataframe tbody tr th {\n",
       "        vertical-align: top;\n",
       "    }\n",
       "</style>\n",
       "<table border=\"1\" class=\"dataframe\">\n",
       "  <thead>\n",
       "    <tr style=\"text-align: right;\">\n",
       "      <th></th>\n",
       "      <th>area</th>\n",
       "      <th>population</th>\n",
       "      <th>density</th>\n",
       "    </tr>\n",
       "  </thead>\n",
       "  <tbody>\n",
       "    <tr>\n",
       "      <th>California</th>\n",
       "      <td>423967</td>\n",
       "      <td>38332521</td>\n",
       "      <td>0.011060</td>\n",
       "    </tr>\n",
       "    <tr>\n",
       "      <th>Texas</th>\n",
       "      <td>695662</td>\n",
       "      <td>26448193</td>\n",
       "      <td>0.026303</td>\n",
       "    </tr>\n",
       "  </tbody>\n",
       "</table>\n",
       "</div>"
      ],
      "text/plain": [
       "              area  population   density\n",
       "California  423967    38332521  0.011060\n",
       "Texas       695662    26448193  0.026303"
      ]
     },
     "execution_count": 37,
     "metadata": {},
     "output_type": "execute_result"
    }
   ],
   "source": [
    "#If we need to filter out the dataframe where the area>200000\n",
    "\n",
    "states[states.area>200000]\n"
   ]
  },
  {
   "cell_type": "code",
   "execution_count": 27,
   "metadata": {
    "collapsed": false
   },
   "outputs": [
    {
     "data": {
      "text/html": [
       "<div>\n",
       "<style>\n",
       "    .dataframe thead tr:only-child th {\n",
       "        text-align: right;\n",
       "    }\n",
       "\n",
       "    .dataframe thead th {\n",
       "        text-align: left;\n",
       "    }\n",
       "\n",
       "    .dataframe tbody tr th {\n",
       "        vertical-align: top;\n",
       "    }\n",
       "</style>\n",
       "<table border=\"1\" class=\"dataframe\">\n",
       "  <thead>\n",
       "    <tr style=\"text-align: right;\">\n",
       "      <th></th>\n",
       "      <th>area</th>\n",
       "      <th>population</th>\n",
       "      <th>density</th>\n",
       "    </tr>\n",
       "  </thead>\n",
       "  <tbody>\n",
       "    <tr>\n",
       "      <th>California</th>\n",
       "      <td>423967</td>\n",
       "      <td>38332521</td>\n",
       "      <td>0.01106</td>\n",
       "    </tr>\n",
       "  </tbody>\n",
       "</table>\n",
       "</div>"
      ],
      "text/plain": [
       "              area  population  density\n",
       "California  423967    38332521  0.01106"
      ]
     },
     "execution_count": 27,
     "metadata": {},
     "output_type": "execute_result"
    }
   ],
   "source": [
    "np.logical_and(states.density<0.02,states.area>200000)\n",
    "\n",
    "states[np.logical_and(states.density<0.02,states.area>200000)]"
   ]
  },
  {
   "cell_type": "code",
   "execution_count": 14,
   "metadata": {
    "collapsed": false
   },
   "outputs": [
    {
     "name": "stdout",
     "output_type": "stream",
     "text": [
      "              area  population\n",
      "California  423967    38332521\n",
      "Florida     170312    19552860\n",
      "Illinois    149995    12882135\n",
      "New York    141297    19651127\n",
      "Texas       695662    26448193\n"
     ]
    }
   ],
   "source": [
    "#You could easily remove column with drop method and specify axis=1\n",
    "states=states.drop(\"density\",axis=1)\n",
    "print(states)"
   ]
  },
  {
   "cell_type": "code",
   "execution_count": 15,
   "metadata": {
    "collapsed": false
   },
   "outputs": [
    {
     "data": {
      "text/html": [
       "<div>\n",
       "<style>\n",
       "    .dataframe thead tr:only-child th {\n",
       "        text-align: right;\n",
       "    }\n",
       "\n",
       "    .dataframe thead th {\n",
       "        text-align: left;\n",
       "    }\n",
       "\n",
       "    .dataframe tbody tr th {\n",
       "        vertical-align: top;\n",
       "    }\n",
       "</style>\n",
       "<table border=\"1\" class=\"dataframe\">\n",
       "  <thead>\n",
       "    <tr style=\"text-align: right;\">\n",
       "      <th></th>\n",
       "      <th>area</th>\n",
       "      <th>population</th>\n",
       "    </tr>\n",
       "  </thead>\n",
       "  <tbody>\n",
       "    <tr>\n",
       "      <th>California</th>\n",
       "      <td>423967</td>\n",
       "      <td>38332521</td>\n",
       "    </tr>\n",
       "    <tr>\n",
       "      <th>Florida</th>\n",
       "      <td>170312</td>\n",
       "      <td>19552860</td>\n",
       "    </tr>\n",
       "    <tr>\n",
       "      <th>Illinois</th>\n",
       "      <td>149995</td>\n",
       "      <td>12882135</td>\n",
       "    </tr>\n",
       "    <tr>\n",
       "      <th>New York</th>\n",
       "      <td>141297</td>\n",
       "      <td>19651127</td>\n",
       "    </tr>\n",
       "    <tr>\n",
       "      <th>Texas</th>\n",
       "      <td>695662</td>\n",
       "      <td>26448193</td>\n",
       "    </tr>\n",
       "  </tbody>\n",
       "</table>\n",
       "</div>"
      ],
      "text/plain": [
       "              area  population\n",
       "California  423967    38332521\n",
       "Florida     170312    19552860\n",
       "Illinois    149995    12882135\n",
       "New York    141297    19651127\n",
       "Texas       695662    26448193"
      ]
     },
     "execution_count": 15,
     "metadata": {},
     "output_type": "execute_result"
    }
   ],
   "source": [
    "states.head()"
   ]
  },
  {
   "cell_type": "code",
   "execution_count": 40,
   "metadata": {
    "collapsed": false
   },
   "outputs": [
    {
     "data": {
      "text/html": [
       "<div>\n",
       "<style>\n",
       "    .dataframe thead tr:only-child th {\n",
       "        text-align: right;\n",
       "    }\n",
       "\n",
       "    .dataframe thead th {\n",
       "        text-align: left;\n",
       "    }\n",
       "\n",
       "    .dataframe tbody tr th {\n",
       "        vertical-align: top;\n",
       "    }\n",
       "</style>\n",
       "<table border=\"1\" class=\"dataframe\">\n",
       "  <thead>\n",
       "    <tr style=\"text-align: right;\">\n",
       "      <th></th>\n",
       "      <th>area</th>\n",
       "      <th>population</th>\n",
       "      <th>density</th>\n",
       "    </tr>\n",
       "  </thead>\n",
       "  <tbody>\n",
       "    <tr>\n",
       "      <th>count</th>\n",
       "      <td>5.000000</td>\n",
       "      <td>5.000000e+00</td>\n",
       "      <td>5.000000</td>\n",
       "    </tr>\n",
       "    <tr>\n",
       "      <th>mean</th>\n",
       "      <td>316246.600000</td>\n",
       "      <td>2.337337e+07</td>\n",
       "      <td>0.012981</td>\n",
       "    </tr>\n",
       "    <tr>\n",
       "      <th>std</th>\n",
       "      <td>242437.411951</td>\n",
       "      <td>9.640386e+06</td>\n",
       "      <td>0.007660</td>\n",
       "    </tr>\n",
       "    <tr>\n",
       "      <th>min</th>\n",
       "      <td>141297.000000</td>\n",
       "      <td>1.288214e+07</td>\n",
       "      <td>0.007190</td>\n",
       "    </tr>\n",
       "    <tr>\n",
       "      <th>25%</th>\n",
       "      <td>149995.000000</td>\n",
       "      <td>1.955286e+07</td>\n",
       "      <td>0.008710</td>\n",
       "    </tr>\n",
       "    <tr>\n",
       "      <th>50%</th>\n",
       "      <td>170312.000000</td>\n",
       "      <td>1.965113e+07</td>\n",
       "      <td>0.011060</td>\n",
       "    </tr>\n",
       "    <tr>\n",
       "      <th>75%</th>\n",
       "      <td>423967.000000</td>\n",
       "      <td>2.644819e+07</td>\n",
       "      <td>0.011644</td>\n",
       "    </tr>\n",
       "    <tr>\n",
       "      <th>max</th>\n",
       "      <td>695662.000000</td>\n",
       "      <td>3.833252e+07</td>\n",
       "      <td>0.026303</td>\n",
       "    </tr>\n",
       "  </tbody>\n",
       "</table>\n",
       "</div>"
      ],
      "text/plain": [
       "                area    population   density\n",
       "count       5.000000  5.000000e+00  5.000000\n",
       "mean   316246.600000  2.337337e+07  0.012981\n",
       "std    242437.411951  9.640386e+06  0.007660\n",
       "min    141297.000000  1.288214e+07  0.007190\n",
       "25%    149995.000000  1.955286e+07  0.008710\n",
       "50%    170312.000000  1.965113e+07  0.011060\n",
       "75%    423967.000000  2.644819e+07  0.011644\n",
       "max    695662.000000  3.833252e+07  0.026303"
      ]
     },
     "execution_count": 40,
     "metadata": {},
     "output_type": "execute_result"
    }
   ],
   "source": [
    "states.head()\n",
    "L11=states.describe()\n",
    "L11"
   ]
  },
  {
   "cell_type": "code",
   "execution_count": 49,
   "metadata": {
    "collapsed": false
   },
   "outputs": [
    {
     "data": {
      "text/plain": [
       "area    423967.0\n",
       "Name: 75%, dtype: float64"
      ]
     },
     "execution_count": 49,
     "metadata": {},
     "output_type": "execute_result"
    }
   ],
   "source": [
    "type(L11)\n",
    "L11.index\n",
    "L2=L11.loc[\"75%\"][[\"area\"]]\n",
    "L2"
   ]
  },
  {
   "cell_type": "code",
   "execution_count": 61,
   "metadata": {
    "collapsed": false
   },
   "outputs": [
    {
     "data": {
      "text/plain": [
       "array([[  423967, 38332521],\n",
       "       [  170312, 19552860],\n",
       "       [  149995, 12882135],\n",
       "       [  141297, 19651127],\n",
       "       [  695662, 26448193]], dtype=int64)"
      ]
     },
     "execution_count": 61,
     "metadata": {},
     "output_type": "execute_result"
    }
   ],
   "source": [
    "states.index\n",
    "states.values"
   ]
  },
  {
   "cell_type": "code",
   "execution_count": 50,
   "metadata": {
    "collapsed": false
   },
   "outputs": [
    {
     "name": "stdout",
     "output_type": "stream",
     "text": [
      "   A1  A2\n",
      "0   1   2\n",
      "1   2   3\n",
      "2   3   4\n",
      "3   4   6\n",
      "4   5   7\n",
      "   A3  A4\n",
      "0   1   2\n",
      "1   2   3\n",
      "2   3   4\n",
      "3   4   6\n",
      "4   5   7\n",
      "   A11  A12  A13  A14\n",
      "0    1    2    1    2\n",
      "1    2    3    2    3\n",
      "2    3    4    3    4\n",
      "3    4    6    4    6\n",
      "4    5    7    5    7\n"
     ]
    }
   ],
   "source": [
    "df1=pd.DataFrame({\"A1\":[1,2,3,4,5],\"A2\":[2,3,4,6,7]})\n",
    "print(df1)\n",
    "df2=pd.DataFrame({\"A3\":[1,2,3,4,5],\"A4\":[2,3,4,6,7]})\n",
    "print(df2)\n",
    "df3=pd.concat([df1,df2],axis=1)\n",
    "#To change the column names of the data frame in pandas\n",
    "df3.columns=[\"A11\",\"A12\",\"A13\",\"A14\"]\n",
    "print(df3)\n",
    "\n"
   ]
  },
  {
   "cell_type": "code",
   "execution_count": 67,
   "metadata": {
    "collapsed": false
   },
   "outputs": [
    {
     "data": {
      "text/html": [
       "<div>\n",
       "<style>\n",
       "    .dataframe thead tr:only-child th {\n",
       "        text-align: right;\n",
       "    }\n",
       "\n",
       "    .dataframe thead th {\n",
       "        text-align: left;\n",
       "    }\n",
       "\n",
       "    .dataframe tbody tr th {\n",
       "        vertical-align: top;\n",
       "    }\n",
       "</style>\n",
       "<table border=\"1\" class=\"dataframe\">\n",
       "  <thead>\n",
       "    <tr style=\"text-align: right;\">\n",
       "      <th></th>\n",
       "      <th>A</th>\n",
       "      <th>A12</th>\n",
       "      <th>A13</th>\n",
       "      <th>A14</th>\n",
       "    </tr>\n",
       "  </thead>\n",
       "  <tbody>\n",
       "    <tr>\n",
       "      <th>0</th>\n",
       "      <td>1</td>\n",
       "      <td>2</td>\n",
       "      <td>1</td>\n",
       "      <td>2</td>\n",
       "    </tr>\n",
       "    <tr>\n",
       "      <th>1</th>\n",
       "      <td>2</td>\n",
       "      <td>3</td>\n",
       "      <td>2</td>\n",
       "      <td>3</td>\n",
       "    </tr>\n",
       "    <tr>\n",
       "      <th>2</th>\n",
       "      <td>3</td>\n",
       "      <td>4</td>\n",
       "      <td>3</td>\n",
       "      <td>4</td>\n",
       "    </tr>\n",
       "    <tr>\n",
       "      <th>3</th>\n",
       "      <td>4</td>\n",
       "      <td>6</td>\n",
       "      <td>4</td>\n",
       "      <td>6</td>\n",
       "    </tr>\n",
       "    <tr>\n",
       "      <th>4</th>\n",
       "      <td>5</td>\n",
       "      <td>7</td>\n",
       "      <td>5</td>\n",
       "      <td>7</td>\n",
       "    </tr>\n",
       "  </tbody>\n",
       "</table>\n",
       "</div>"
      ],
      "text/plain": [
       "   A  A12  A13  A14\n",
       "0  1    2    1    2\n",
       "1  2    3    2    3\n",
       "2  3    4    3    4\n",
       "3  4    6    4    6\n",
       "4  5    7    5    7"
      ]
     },
     "execution_count": 67,
     "metadata": {},
     "output_type": "execute_result"
    }
   ],
   "source": [
    "df3.columns.values[0]=\"A\"\n",
    "df3"
   ]
  },
  {
   "cell_type": "code",
   "execution_count": 56,
   "metadata": {
    "collapsed": false
   },
   "outputs": [
    {
     "name": "stdout",
     "output_type": "stream",
     "text": [
      "   A1  A2\n",
      "0   1   2\n",
      "1   2   3\n",
      "2   3   4\n",
      "3   4   6\n",
      "4   5   7\n",
      "   A3  A4\n",
      "5   1   2\n",
      "6   2   3\n",
      "7   3   4\n",
      "8   4   6\n",
      "9   5   7\n",
      "   A11  A12  A13  A14\n",
      "0  1.0  2.0  NaN  NaN\n",
      "1  2.0  3.0  NaN  NaN\n",
      "2  3.0  4.0  NaN  NaN\n",
      "3  4.0  6.0  NaN  NaN\n",
      "4  5.0  7.0  NaN  NaN\n",
      "5  NaN  NaN  1.0  2.0\n",
      "6  NaN  NaN  2.0  3.0\n",
      "7  NaN  NaN  3.0  4.0\n",
      "8  NaN  NaN  4.0  6.0\n",
      "9  NaN  NaN  5.0  7.0\n"
     ]
    }
   ],
   "source": [
    "df1=pd.DataFrame({\"A1\":[1,2,3,4,5],\"A2\":[2,3,4,6,7]})\n",
    "print(df1)\n",
    "df2=pd.DataFrame({\"A3\":[1,2,3,4,5],\"A4\":[2,3,4,6,7]},index=[5,6,7,8,9])\n",
    "print(df2)\n",
    "df3=pd.concat([df1,df2],axis=1)\n",
    "#To change the column names of the data frame in pandas\n",
    "df3.columns=[\"A11\",\"A12\",\"A13\",\"A14\"]\n",
    "print(df3)"
   ]
  },
  {
   "cell_type": "code",
   "execution_count": 58,
   "metadata": {
    "collapsed": false
   },
   "outputs": [
    {
     "data": {
      "text/plain": [
       "['A1', 'A2', 'A3', 'A4']"
      ]
     },
     "execution_count": 58,
     "metadata": {},
     "output_type": "execute_result"
    }
   ],
   "source": [
    "#If you want to extract the column names of the data frame and assign it to \n",
    "#another list object\n",
    "L3=list(df3.columns)"
   ]
  },
  {
   "cell_type": "code",
   "execution_count": 57,
   "metadata": {
    "collapsed": false
   },
   "outputs": [
    {
     "name": "stdout",
     "output_type": "stream",
     "text": [
      "    A1   A2   A3   A4\n",
      "0  1.0  2.0  NaN  NaN\n",
      "1  2.0  3.0  NaN  NaN\n",
      "2  3.0  4.0  NaN  NaN\n",
      "3  4.0  6.0  NaN  NaN\n",
      "4  5.0  7.0  NaN  NaN\n",
      "0  NaN  NaN  1.0  2.0\n",
      "1  NaN  NaN  2.0  3.0\n",
      "2  NaN  NaN  3.0  4.0\n",
      "3  NaN  NaN  4.0  6.0\n",
      "4  NaN  NaN  5.0  7.0\n"
     ]
    }
   ],
   "source": [
    "df4=pd.concat([df1,df2])\n",
    "print(df4)\n"
   ]
  },
  {
   "cell_type": "markdown",
   "metadata": {},
   "source": [
    "### To filter on data frame in pandas"
   ]
  },
  {
   "cell_type": "markdown",
   "metadata": {},
   "source": [
    "### Deal with missing values in data frame"
   ]
  },
  {
   "cell_type": "code",
   "execution_count": 72,
   "metadata": {
    "collapsed": false
   },
   "outputs": [
    {
     "name": "stdout",
     "output_type": "stream",
     "text": [
      "a     1.0\n",
      "b     2.0\n",
      "c     NaN\n",
      "d    10.0\n",
      "dtype: float64\n"
     ]
    },
    {
     "data": {
      "text/plain": [
       "['c']"
      ]
     },
     "execution_count": 72,
     "metadata": {},
     "output_type": "execute_result"
    }
   ],
   "source": [
    "a=pd.Series({\"a\":1,\"b\":2,\"c\":None,\"d\":10})\n",
    "print(a)\n",
    "list(a[a.isnull()].index)"
   ]
  },
  {
   "cell_type": "code",
   "execution_count": 69,
   "metadata": {
    "collapsed": false
   },
   "outputs": [
    {
     "data": {
      "text/plain": [
       "2"
      ]
     },
     "execution_count": 69,
     "metadata": {},
     "output_type": "execute_result"
    }
   ],
   "source": [
    "#To check the number of missing values in the series\n",
    "a=pd.Series({\"a\":1,\"b\":2,\"c\":None,\"d\":10,\"e\":None})\n",
    "a.isnull().sum()"
   ]
  },
  {
   "cell_type": "code",
   "execution_count": 18,
   "metadata": {
    "collapsed": false
   },
   "outputs": [
    {
     "name": "stdout",
     "output_type": "stream",
     "text": [
      "a     1.0\n",
      "b     2.0\n",
      "c     NaN\n",
      "d    10.0\n",
      "dtype: float64\n",
      "\n",
      "Index(['c'], dtype='object')\n",
      "\n",
      "a     1.0\n",
      "b     2.0\n",
      "d    10.0\n",
      "dtype: float64\n"
     ]
    }
   ],
   "source": [
    "a=pd.Series({\"a\":1,\"b\":2,\"c\":None,\"d\":10})\n",
    "print(a)\n",
    "print()\n",
    "print(a[a.isnull()].index)\n",
    "print()\n",
    "print(a[a.notnull()])\n",
    "\n"
   ]
  },
  {
   "cell_type": "code",
   "execution_count": 17,
   "metadata": {
    "collapsed": false
   },
   "outputs": [
    {
     "name": "stdout",
     "output_type": "stream",
     "text": [
      "a     1.0\n",
      "b     2.0\n",
      "c     NaN\n",
      "d    10.0\n",
      "dtype: float64\n",
      "\n",
      "a    False\n",
      "b    False\n",
      "c     True\n",
      "d    False\n",
      "dtype: bool\n",
      "\n"
     ]
    }
   ],
   "source": [
    "a=pd.Series({\"a\":1,\"b\":2,\"c\":None,\"d\":10})\n",
    "print(a)\n",
    "print()\n",
    "print(a.isnull())\n",
    "print()\n",
    "\n"
   ]
  },
  {
   "cell_type": "markdown",
   "metadata": {},
   "source": [
    "Now we have included one more state here in the dictionary:\n",
    "area_dict = {'California': 423967, 'Texas': 695662, 'New York': 141297,\n",
    "             'Florida': 170312, 'Illinois': 149995,'Hawaii':10000}\n",
    "No update of the population dictionary however.\n",
    "Try to recreate the data frame from above.\n",
    "Have you found something different than before ?\n",
    "How to retrieve the state where the population is missing in the data frame ?\n"
   ]
  },
  {
   "cell_type": "code",
   "execution_count": 70,
   "metadata": {
    "collapsed": false
   },
   "outputs": [
    {
     "name": "stdout",
     "output_type": "stream",
     "text": [
      "              area  population\n",
      "California  423967  38332521.0\n",
      "Florida     170312  19552860.0\n",
      "Hawaii       10000         NaN\n",
      "Illinois    149995  12882135.0\n",
      "New York    141297  19651127.0\n",
      "Texas       695662  26448193.0\n",
      "The distict name where the population is missing is Hawaii\n"
     ]
    }
   ],
   "source": [
    "area_dict = {'California': 423967, 'Texas': 695662, 'New York': 141297,\n",
    "             'Florida': 170312, 'Illinois': 149995,'Hawaii':10000}\n",
    "area = pd.Series(area_dict)\n",
    "\n",
    "population_dict = {'California': 38332521,\n",
    "                   'Texas': 26448193,\n",
    "                   'New York': 19651127,\n",
    "                   'Florida': 19552860,\n",
    "                   'Illinois': 12882135}\n",
    "population = pd.Series(population_dict)\n",
    "\n",
    "\n",
    "states1 = pd.DataFrame({'population': population,\n",
    "                       'area': area})\n",
    "print(states1)\n",
    "\n",
    "states1[states1.population.isnull()].index\n",
    "\n",
    "print(\"The distict name where the population is missing is\",\\\n",
    "      list(states1[states1.population.isnull()].index)[0])"
   ]
  },
  {
   "cell_type": "code",
   "execution_count": 30,
   "metadata": {
    "collapsed": false
   },
   "outputs": [
    {
     "data": {
      "text/plain": [
       "['Hawaii']"
      ]
     },
     "execution_count": 30,
     "metadata": {},
     "output_type": "execute_result"
    }
   ],
   "source": [
    "list(states1[states1.population.isnull()].index)"
   ]
  },
  {
   "cell_type": "code",
   "execution_count": 64,
   "metadata": {
    "collapsed": false
   },
   "outputs": [
    {
     "name": "stdout",
     "output_type": "stream",
     "text": [
      "              area  population\n",
      "AA           20000         NaN\n",
      "California  423967  38332521.0\n",
      "Florida     170312  19552860.0\n",
      "Hawaii       10000         NaN\n",
      "Illinois    149995  12882135.0\n",
      "New York    141297  19651127.0\n",
      "Texas       695662  26448193.0\n",
      "['AA', 'Hawaii']\n",
      "The name of the states where the poulation is missing are:  AA,Hawaii\n"
     ]
    }
   ],
   "source": [
    "area_dict = {'California': 423967, 'Texas': 695662, 'New York': 141297,\n",
    "             'Florida': 170312, 'Illinois': 149995,'Hawaii':10000,\"AA\":20000}\n",
    "area = pd.Series(area_dict)\n",
    "\n",
    "population_dict = {'California': 38332521,\n",
    "                   'Texas': 26448193,\n",
    "                   'New York': 19651127,\n",
    "                   'Florida': 19552860,\n",
    "                   'Illinois': 12882135}\n",
    "population = pd.Series(population_dict)\n",
    "\n",
    "\n",
    "states1 = pd.DataFrame({'population': population,\n",
    "                       'area': area})\n",
    "print(states1)\n",
    "\n",
    "L1=list(states1[states1.population.isnull()].index)\n",
    "\n",
    "print(L1)\n",
    "\n",
    "print(\"The name of the states where the poulation is missing are: \",\",\".join(L1))\n"
   ]
  },
  {
   "cell_type": "markdown",
   "metadata": {},
   "source": [
    "### To imputate missing values per column by the median value of each column"
   ]
  },
  {
   "cell_type": "code",
   "execution_count": 71,
   "metadata": {
    "collapsed": false
   },
   "outputs": [
    {
     "name": "stdout",
     "output_type": "stream",
     "text": [
      "              area  population\n",
      "California  423967  38332521.0\n",
      "Florida     170312  19552860.0\n",
      "Hawaii       10000         NaN\n",
      "Illinois    149995  12882135.0\n",
      "New York    141297  19651127.0\n",
      "Texas       695662  26448193.0\n",
      "area            160153.5\n",
      "population    19651127.0\n",
      "dtype: float64\n",
      "              area  population\n",
      "California  423967  38332521.0\n",
      "Florida     170312  19552860.0\n",
      "Hawaii       10000  19651127.0\n",
      "Illinois    149995  12882135.0\n",
      "New York    141297  19651127.0\n",
      "Texas       695662  26448193.0\n"
     ]
    }
   ],
   "source": [
    "print(states1)\n",
    "print(states1.median())\n",
    "states1.fillna(states1.median(),inplace=True)\n",
    "print(states1)"
   ]
  },
  {
   "cell_type": "markdown",
   "metadata": {},
   "source": [
    "### Exercise "
   ]
  },
  {
   "cell_type": "code",
   "execution_count": 73,
   "metadata": {
    "collapsed": false
   },
   "outputs": [
    {
     "data": {
      "text/plain": [
       "'E:\\\\R_Working_Directory'"
      ]
     },
     "execution_count": 73,
     "metadata": {},
     "output_type": "execute_result"
    }
   ],
   "source": [
    "import os\n",
    "os.getcwd()\n",
    "os.chdir(\"E:/R_Working_Directory\")\n",
    "os.getcwd()"
   ]
  },
  {
   "cell_type": "code",
   "execution_count": 74,
   "metadata": {
    "collapsed": false
   },
   "outputs": [
    {
     "data": {
      "text/plain": [
       "(13949, 22)"
      ]
     },
     "execution_count": 74,
     "metadata": {},
     "output_type": "execute_result"
    }
   ],
   "source": [
    "data=pd.read_csv(\"TrainingData_latest.csv\",sep=\";\")\n",
    "data.shape"
   ]
  },
  {
   "cell_type": "code",
   "execution_count": 76,
   "metadata": {
    "collapsed": false
   },
   "outputs": [
    {
     "data": {
      "text/html": [
       "<div>\n",
       "<style>\n",
       "    .dataframe thead tr:only-child th {\n",
       "        text-align: right;\n",
       "    }\n",
       "\n",
       "    .dataframe thead th {\n",
       "        text-align: left;\n",
       "    }\n",
       "\n",
       "    .dataframe tbody tr th {\n",
       "        vertical-align: top;\n",
       "    }\n",
       "</style>\n",
       "<table border=\"1\" class=\"dataframe\">\n",
       "  <thead>\n",
       "    <tr style=\"text-align: right;\">\n",
       "      <th></th>\n",
       "      <th>ID</th>\n",
       "      <th>NumComplains</th>\n",
       "      <th>RACH_Setup_Completion_Success_Rate_AVG</th>\n",
       "      <th>Total_RRC_Connection_Setup_Success_Ratio_AVG</th>\n",
       "      <th>Total_RRC_Connection_Re_establishment_Success_Ratio_AVG</th>\n",
       "      <th>Radio_Bearer_Success_Ratio_AVG</th>\n",
       "      <th>ERAB_SetupSR_AVG</th>\n",
       "      <th>HO_Success_Ratio_intra_eNB_AVG</th>\n",
       "      <th>Average_CQI_AVG</th>\n",
       "      <th>Radio_Bearer_Drop_Ratio_AVG</th>\n",
       "      <th>Average_Physical_Resource_Block_Usage_UL_AVG</th>\n",
       "      <th>Average_Physical_Resource_Block_Usage_DL_AVG</th>\n",
       "      <th>Complete_RACH_Setup_Success_Rate_AVG</th>\n",
       "      <th>AGG1_blocked_distribution_rate_AVG</th>\n",
       "      <th>AGG2_blocked_distribution_rate_AVG</th>\n",
       "      <th>AGG4_blocked_distribution_rate_AVG</th>\n",
       "      <th>AGG8_blocked_distribution_rate_AVG</th>\n",
       "      <th>ECM_failure_ratio_due_to_Rejection_by_RRM_RAC_AVG</th>\n",
       "      <th>AGG_level_block_Rate_AVG</th>\n",
       "      <th>ERAB_Drop_Ratio_with_UE_Lost_cause_initiated_by_eNB_AVG</th>\n",
       "    </tr>\n",
       "  </thead>\n",
       "  <tbody>\n",
       "    <tr>\n",
       "      <th>count</th>\n",
       "      <td>13949.000000</td>\n",
       "      <td>13949.000000</td>\n",
       "      <td>13948.000000</td>\n",
       "      <td>13947.000000</td>\n",
       "      <td>13538.000000</td>\n",
       "      <td>13947.000000</td>\n",
       "      <td>13947.000000</td>\n",
       "      <td>13799.000000</td>\n",
       "      <td>13948.000000</td>\n",
       "      <td>13569.000000</td>\n",
       "      <td>13869.000000</td>\n",
       "      <td>13949.000000</td>\n",
       "      <td>13947.000000</td>\n",
       "      <td>13949.000000</td>\n",
       "      <td>13949.000000</td>\n",
       "      <td>13949.000000</td>\n",
       "      <td>13949.000000</td>\n",
       "      <td>13949.0</td>\n",
       "      <td>13949.000000</td>\n",
       "      <td>13949.000000</td>\n",
       "    </tr>\n",
       "    <tr>\n",
       "      <th>mean</th>\n",
       "      <td>6975.000000</td>\n",
       "      <td>0.111764</td>\n",
       "      <td>0.986888</td>\n",
       "      <td>0.998041</td>\n",
       "      <td>0.480027</td>\n",
       "      <td>0.998881</td>\n",
       "      <td>0.999173</td>\n",
       "      <td>0.991812</td>\n",
       "      <td>9.757671</td>\n",
       "      <td>0.004751</td>\n",
       "      <td>1.710451</td>\n",
       "      <td>11.118822</td>\n",
       "      <td>0.851352</td>\n",
       "      <td>0.181070</td>\n",
       "      <td>0.177167</td>\n",
       "      <td>0.187096</td>\n",
       "      <td>0.294358</td>\n",
       "      <td>0.0</td>\n",
       "      <td>0.000194</td>\n",
       "      <td>0.000095</td>\n",
       "    </tr>\n",
       "    <tr>\n",
       "      <th>std</th>\n",
       "      <td>4026.873787</td>\n",
       "      <td>0.315088</td>\n",
       "      <td>0.031489</td>\n",
       "      <td>0.003141</td>\n",
       "      <td>0.221058</td>\n",
       "      <td>0.002354</td>\n",
       "      <td>0.004461</td>\n",
       "      <td>0.017259</td>\n",
       "      <td>1.301091</td>\n",
       "      <td>0.018849</td>\n",
       "      <td>2.333754</td>\n",
       "      <td>10.667966</td>\n",
       "      <td>0.104801</td>\n",
       "      <td>0.104939</td>\n",
       "      <td>0.080654</td>\n",
       "      <td>0.110701</td>\n",
       "      <td>0.181164</td>\n",
       "      <td>0.0</td>\n",
       "      <td>0.000435</td>\n",
       "      <td>0.000425</td>\n",
       "    </tr>\n",
       "    <tr>\n",
       "      <th>min</th>\n",
       "      <td>1.000000</td>\n",
       "      <td>0.000000</td>\n",
       "      <td>0.325024</td>\n",
       "      <td>0.857417</td>\n",
       "      <td>0.005460</td>\n",
       "      <td>0.862952</td>\n",
       "      <td>0.793300</td>\n",
       "      <td>0.500000</td>\n",
       "      <td>4.929429</td>\n",
       "      <td>0.000110</td>\n",
       "      <td>0.025000</td>\n",
       "      <td>0.300000</td>\n",
       "      <td>0.008698</td>\n",
       "      <td>0.000000</td>\n",
       "      <td>0.000000</td>\n",
       "      <td>0.000000</td>\n",
       "      <td>0.000000</td>\n",
       "      <td>0.0</td>\n",
       "      <td>0.000000</td>\n",
       "      <td>0.000000</td>\n",
       "    </tr>\n",
       "    <tr>\n",
       "      <th>25%</th>\n",
       "      <td>3488.000000</td>\n",
       "      <td>0.000000</td>\n",
       "      <td>0.988516</td>\n",
       "      <td>0.997722</td>\n",
       "      <td>0.316334</td>\n",
       "      <td>0.998856</td>\n",
       "      <td>0.999444</td>\n",
       "      <td>0.991108</td>\n",
       "      <td>8.934675</td>\n",
       "      <td>0.000967</td>\n",
       "      <td>0.367647</td>\n",
       "      <td>3.501293</td>\n",
       "      <td>0.821666</td>\n",
       "      <td>0.110404</td>\n",
       "      <td>0.130690</td>\n",
       "      <td>0.112328</td>\n",
       "      <td>0.150082</td>\n",
       "      <td>0.0</td>\n",
       "      <td>0.000019</td>\n",
       "      <td>0.000015</td>\n",
       "    </tr>\n",
       "    <tr>\n",
       "      <th>50%</th>\n",
       "      <td>6975.000000</td>\n",
       "      <td>0.000000</td>\n",
       "      <td>0.995874</td>\n",
       "      <td>0.998739</td>\n",
       "      <td>0.451478</td>\n",
       "      <td>0.999318</td>\n",
       "      <td>0.999740</td>\n",
       "      <td>0.996186</td>\n",
       "      <td>9.616314</td>\n",
       "      <td>0.001812</td>\n",
       "      <td>0.981092</td>\n",
       "      <td>7.743262</td>\n",
       "      <td>0.860254</td>\n",
       "      <td>0.175200</td>\n",
       "      <td>0.193001</td>\n",
       "      <td>0.160540</td>\n",
       "      <td>0.275015</td>\n",
       "      <td>0.0</td>\n",
       "      <td>0.000073</td>\n",
       "      <td>0.000050</td>\n",
       "    </tr>\n",
       "    <tr>\n",
       "      <th>75%</th>\n",
       "      <td>10462.000000</td>\n",
       "      <td>0.000000</td>\n",
       "      <td>0.998561</td>\n",
       "      <td>0.999361</td>\n",
       "      <td>0.634576</td>\n",
       "      <td>0.999584</td>\n",
       "      <td>0.999892</td>\n",
       "      <td>0.998936</td>\n",
       "      <td>10.400963</td>\n",
       "      <td>0.003731</td>\n",
       "      <td>2.200536</td>\n",
       "      <td>15.124670</td>\n",
       "      <td>0.920287</td>\n",
       "      <td>0.239333</td>\n",
       "      <td>0.233124</td>\n",
       "      <td>0.270251</td>\n",
       "      <td>0.427979</td>\n",
       "      <td>0.0</td>\n",
       "      <td>0.000198</td>\n",
       "      <td>0.000098</td>\n",
       "    </tr>\n",
       "    <tr>\n",
       "      <th>max</th>\n",
       "      <td>13949.000000</td>\n",
       "      <td>1.000000</td>\n",
       "      <td>1.000012</td>\n",
       "      <td>1.000970</td>\n",
       "      <td>1.000000</td>\n",
       "      <td>1.000000</td>\n",
       "      <td>1.003578</td>\n",
       "      <td>1.000802</td>\n",
       "      <td>14.856340</td>\n",
       "      <td>1.000000</td>\n",
       "      <td>60.965000</td>\n",
       "      <td>79.885090</td>\n",
       "      <td>1.000000</td>\n",
       "      <td>1.000000</td>\n",
       "      <td>1.000000</td>\n",
       "      <td>1.000000</td>\n",
       "      <td>1.000000</td>\n",
       "      <td>0.0</td>\n",
       "      <td>0.013585</td>\n",
       "      <td>0.038462</td>\n",
       "    </tr>\n",
       "  </tbody>\n",
       "</table>\n",
       "</div>"
      ],
      "text/plain": [
       "                 ID   NumComplains   RACH_Setup_Completion_Success_Rate_AVG  \\\n",
       "count  13949.000000   13949.000000                             13948.000000   \n",
       "mean    6975.000000       0.111764                                 0.986888   \n",
       "std     4026.873787       0.315088                                 0.031489   \n",
       "min        1.000000       0.000000                                 0.325024   \n",
       "25%     3488.000000       0.000000                                 0.988516   \n",
       "50%     6975.000000       0.000000                                 0.995874   \n",
       "75%    10462.000000       0.000000                                 0.998561   \n",
       "max    13949.000000       1.000000                                 1.000012   \n",
       "\n",
       "        Total_RRC_Connection_Setup_Success_Ratio_AVG  \\\n",
       "count                                   13947.000000   \n",
       "mean                                        0.998041   \n",
       "std                                         0.003141   \n",
       "min                                         0.857417   \n",
       "25%                                         0.997722   \n",
       "50%                                         0.998739   \n",
       "75%                                         0.999361   \n",
       "max                                         1.000970   \n",
       "\n",
       "        Total_RRC_Connection_Re_establishment_Success_Ratio_AVG  \\\n",
       "count                                       13538.000000          \n",
       "mean                                            0.480027          \n",
       "std                                             0.221058          \n",
       "min                                             0.005460          \n",
       "25%                                             0.316334          \n",
       "50%                                             0.451478          \n",
       "75%                                             0.634576          \n",
       "max                                             1.000000          \n",
       "\n",
       "        Radio_Bearer_Success_Ratio_AVG   ERAB_SetupSR_AVG  \\\n",
       "count                     13947.000000       13947.000000   \n",
       "mean                          0.998881           0.999173   \n",
       "std                           0.002354           0.004461   \n",
       "min                           0.862952           0.793300   \n",
       "25%                           0.998856           0.999444   \n",
       "50%                           0.999318           0.999740   \n",
       "75%                           0.999584           0.999892   \n",
       "max                           1.000000           1.003578   \n",
       "\n",
       "        HO_Success_Ratio_intra_eNB_AVG   Average_CQI_AVG  \\\n",
       "count                     13799.000000      13948.000000   \n",
       "mean                          0.991812          9.757671   \n",
       "std                           0.017259          1.301091   \n",
       "min                           0.500000          4.929429   \n",
       "25%                           0.991108          8.934675   \n",
       "50%                           0.996186          9.616314   \n",
       "75%                           0.998936         10.400963   \n",
       "max                           1.000802         14.856340   \n",
       "\n",
       "        Radio_Bearer_Drop_Ratio_AVG  \\\n",
       "count                  13569.000000   \n",
       "mean                       0.004751   \n",
       "std                        0.018849   \n",
       "min                        0.000110   \n",
       "25%                        0.000967   \n",
       "50%                        0.001812   \n",
       "75%                        0.003731   \n",
       "max                        1.000000   \n",
       "\n",
       "        Average_Physical_Resource_Block_Usage_UL_AVG  \\\n",
       "count                                   13869.000000   \n",
       "mean                                        1.710451   \n",
       "std                                         2.333754   \n",
       "min                                         0.025000   \n",
       "25%                                         0.367647   \n",
       "50%                                         0.981092   \n",
       "75%                                         2.200536   \n",
       "max                                        60.965000   \n",
       "\n",
       "        Average_Physical_Resource_Block_Usage_DL_AVG  \\\n",
       "count                                   13949.000000   \n",
       "mean                                       11.118822   \n",
       "std                                        10.667966   \n",
       "min                                         0.300000   \n",
       "25%                                         3.501293   \n",
       "50%                                         7.743262   \n",
       "75%                                        15.124670   \n",
       "max                                        79.885090   \n",
       "\n",
       "        Complete_RACH_Setup_Success_Rate_AVG  \\\n",
       "count                           13947.000000   \n",
       "mean                                0.851352   \n",
       "std                                 0.104801   \n",
       "min                                 0.008698   \n",
       "25%                                 0.821666   \n",
       "50%                                 0.860254   \n",
       "75%                                 0.920287   \n",
       "max                                 1.000000   \n",
       "\n",
       "        AGG1_blocked_distribution_rate_AVG  \\\n",
       "count                         13949.000000   \n",
       "mean                              0.181070   \n",
       "std                               0.104939   \n",
       "min                               0.000000   \n",
       "25%                               0.110404   \n",
       "50%                               0.175200   \n",
       "75%                               0.239333   \n",
       "max                               1.000000   \n",
       "\n",
       "        AGG2_blocked_distribution_rate_AVG  \\\n",
       "count                         13949.000000   \n",
       "mean                              0.177167   \n",
       "std                               0.080654   \n",
       "min                               0.000000   \n",
       "25%                               0.130690   \n",
       "50%                               0.193001   \n",
       "75%                               0.233124   \n",
       "max                               1.000000   \n",
       "\n",
       "        AGG4_blocked_distribution_rate_AVG  \\\n",
       "count                         13949.000000   \n",
       "mean                              0.187096   \n",
       "std                               0.110701   \n",
       "min                               0.000000   \n",
       "25%                               0.112328   \n",
       "50%                               0.160540   \n",
       "75%                               0.270251   \n",
       "max                               1.000000   \n",
       "\n",
       "        AGG8_blocked_distribution_rate_AVG  \\\n",
       "count                         13949.000000   \n",
       "mean                              0.294358   \n",
       "std                               0.181164   \n",
       "min                               0.000000   \n",
       "25%                               0.150082   \n",
       "50%                               0.275015   \n",
       "75%                               0.427979   \n",
       "max                               1.000000   \n",
       "\n",
       "        ECM_failure_ratio_due_to_Rejection_by_RRM_RAC_AVG  \\\n",
       "count                                            13949.0    \n",
       "mean                                                 0.0    \n",
       "std                                                  0.0    \n",
       "min                                                  0.0    \n",
       "25%                                                  0.0    \n",
       "50%                                                  0.0    \n",
       "75%                                                  0.0    \n",
       "max                                                  0.0    \n",
       "\n",
       "        AGG_level_block_Rate_AVG  \\\n",
       "count               13949.000000   \n",
       "mean                    0.000194   \n",
       "std                     0.000435   \n",
       "min                     0.000000   \n",
       "25%                     0.000019   \n",
       "50%                     0.000073   \n",
       "75%                     0.000198   \n",
       "max                     0.013585   \n",
       "\n",
       "        ERAB_Drop_Ratio_with_UE_Lost_cause_initiated_by_eNB_AVG  \n",
       "count                                       13949.000000         \n",
       "mean                                            0.000095         \n",
       "std                                             0.000425         \n",
       "min                                             0.000000         \n",
       "25%                                             0.000015         \n",
       "50%                                             0.000050         \n",
       "75%                                             0.000098         \n",
       "max                                             0.038462         "
      ]
     },
     "execution_count": 76,
     "metadata": {},
     "output_type": "execute_result"
    }
   ],
   "source": [
    "data.describe()"
   ]
  },
  {
   "cell_type": "code",
   "execution_count": 77,
   "metadata": {
    "collapsed": false
   },
   "outputs": [
    {
     "data": {
      "text/html": [
       "<div>\n",
       "<style>\n",
       "    .dataframe thead tr:only-child th {\n",
       "        text-align: right;\n",
       "    }\n",
       "\n",
       "    .dataframe thead th {\n",
       "        text-align: left;\n",
       "    }\n",
       "\n",
       "    .dataframe tbody tr th {\n",
       "        vertical-align: top;\n",
       "    }\n",
       "</style>\n",
       "<table border=\"1\" class=\"dataframe\">\n",
       "  <thead>\n",
       "    <tr style=\"text-align: right;\">\n",
       "      <th></th>\n",
       "      <th>ID</th>\n",
       "      <th>NumComplains</th>\n",
       "      <th>hour_id</th>\n",
       "      <th>LCID</th>\n",
       "      <th>RACH_Setup_Completion_Success_Rate_AVG</th>\n",
       "      <th>Total_RRC_Connection_Setup_Success_Ratio_AVG</th>\n",
       "      <th>Total_RRC_Connection_Re_establishment_Success_Ratio_AVG</th>\n",
       "      <th>Radio_Bearer_Success_Ratio_AVG</th>\n",
       "      <th>ERAB_SetupSR_AVG</th>\n",
       "      <th>HO_Success_Ratio_intra_eNB_AVG</th>\n",
       "      <th>...</th>\n",
       "      <th>Average_Physical_Resource_Block_Usage_UL_AVG</th>\n",
       "      <th>Average_Physical_Resource_Block_Usage_DL_AVG</th>\n",
       "      <th>Complete_RACH_Setup_Success_Rate_AVG</th>\n",
       "      <th>AGG1_blocked_distribution_rate_AVG</th>\n",
       "      <th>AGG2_blocked_distribution_rate_AVG</th>\n",
       "      <th>AGG4_blocked_distribution_rate_AVG</th>\n",
       "      <th>AGG8_blocked_distribution_rate_AVG</th>\n",
       "      <th>ECM_failure_ratio_due_to_Rejection_by_RRM_RAC_AVG</th>\n",
       "      <th>AGG_level_block_Rate_AVG</th>\n",
       "      <th>ERAB_Drop_Ratio_with_UE_Lost_cause_initiated_by_eNB_AVG</th>\n",
       "    </tr>\n",
       "  </thead>\n",
       "  <tbody>\n",
       "    <tr>\n",
       "      <th>0</th>\n",
       "      <td>1</td>\n",
       "      <td>1</td>\n",
       "      <td>11/20/2015 0:03</td>\n",
       "      <td>33378111</td>\n",
       "      <td>0.992407</td>\n",
       "      <td>0.998720</td>\n",
       "      <td>0.331485</td>\n",
       "      <td>0.999198</td>\n",
       "      <td>0.999654</td>\n",
       "      <td>0.992175</td>\n",
       "      <td>...</td>\n",
       "      <td>2.029270</td>\n",
       "      <td>15.12467</td>\n",
       "      <td>0.832560</td>\n",
       "      <td>0.191129</td>\n",
       "      <td>0.213966</td>\n",
       "      <td>0.257052</td>\n",
       "      <td>0.316564</td>\n",
       "      <td>0</td>\n",
       "      <td>0.000244</td>\n",
       "      <td>0.000119</td>\n",
       "    </tr>\n",
       "    <tr>\n",
       "      <th>1</th>\n",
       "      <td>2</td>\n",
       "      <td>1</td>\n",
       "      <td>11/20/2015 0:27</td>\n",
       "      <td>23596112</td>\n",
       "      <td>0.999230</td>\n",
       "      <td>0.993518</td>\n",
       "      <td>0.358130</td>\n",
       "      <td>0.998407</td>\n",
       "      <td>0.998068</td>\n",
       "      <td>0.980128</td>\n",
       "      <td>...</td>\n",
       "      <td>2.941401</td>\n",
       "      <td>14.50509</td>\n",
       "      <td>0.809881</td>\n",
       "      <td>0.202040</td>\n",
       "      <td>0.190227</td>\n",
       "      <td>0.202197</td>\n",
       "      <td>0.325704</td>\n",
       "      <td>0</td>\n",
       "      <td>0.000332</td>\n",
       "      <td>0.000222</td>\n",
       "    </tr>\n",
       "    <tr>\n",
       "      <th>2</th>\n",
       "      <td>3</td>\n",
       "      <td>1</td>\n",
       "      <td>11/20/2015 0:29</td>\n",
       "      <td>10611113</td>\n",
       "      <td>0.984591</td>\n",
       "      <td>0.998783</td>\n",
       "      <td>0.310432</td>\n",
       "      <td>0.999326</td>\n",
       "      <td>0.999253</td>\n",
       "      <td>0.993642</td>\n",
       "      <td>...</td>\n",
       "      <td>1.737991</td>\n",
       "      <td>10.10685</td>\n",
       "      <td>0.826034</td>\n",
       "      <td>0.246141</td>\n",
       "      <td>0.235573</td>\n",
       "      <td>0.274353</td>\n",
       "      <td>0.212420</td>\n",
       "      <td>0</td>\n",
       "      <td>0.000132</td>\n",
       "      <td>0.000107</td>\n",
       "    </tr>\n",
       "    <tr>\n",
       "      <th>3</th>\n",
       "      <td>4</td>\n",
       "      <td>1</td>\n",
       "      <td>11/20/2015 2:11</td>\n",
       "      <td>50982112</td>\n",
       "      <td>0.994961</td>\n",
       "      <td>0.998095</td>\n",
       "      <td>0.591061</td>\n",
       "      <td>0.999203</td>\n",
       "      <td>0.999691</td>\n",
       "      <td>0.988120</td>\n",
       "      <td>...</td>\n",
       "      <td>1.960138</td>\n",
       "      <td>10.62714</td>\n",
       "      <td>0.884707</td>\n",
       "      <td>0.124238</td>\n",
       "      <td>0.169905</td>\n",
       "      <td>0.169546</td>\n",
       "      <td>0.436171</td>\n",
       "      <td>0</td>\n",
       "      <td>0.000075</td>\n",
       "      <td>0.000042</td>\n",
       "    </tr>\n",
       "    <tr>\n",
       "      <th>4</th>\n",
       "      <td>5</td>\n",
       "      <td>1</td>\n",
       "      <td>11/20/2015 2:12</td>\n",
       "      <td>24738113</td>\n",
       "      <td>0.985488</td>\n",
       "      <td>0.998673</td>\n",
       "      <td>0.450843</td>\n",
       "      <td>0.998981</td>\n",
       "      <td>0.999617</td>\n",
       "      <td>0.989435</td>\n",
       "      <td>...</td>\n",
       "      <td>4.088653</td>\n",
       "      <td>19.18508</td>\n",
       "      <td>0.838161</td>\n",
       "      <td>0.221814</td>\n",
       "      <td>0.191663</td>\n",
       "      <td>0.188029</td>\n",
       "      <td>0.299334</td>\n",
       "      <td>0</td>\n",
       "      <td>0.000435</td>\n",
       "      <td>0.000125</td>\n",
       "    </tr>\n",
       "  </tbody>\n",
       "</table>\n",
       "<p>5 rows × 22 columns</p>\n",
       "</div>"
      ],
      "text/plain": [
       "   ID   NumComplains          hour_id      LCID  \\\n",
       "0   1              1  11/20/2015 0:03  33378111   \n",
       "1   2              1  11/20/2015 0:27  23596112   \n",
       "2   3              1  11/20/2015 0:29  10611113   \n",
       "3   4              1  11/20/2015 2:11  50982112   \n",
       "4   5              1  11/20/2015 2:12  24738113   \n",
       "\n",
       "    RACH_Setup_Completion_Success_Rate_AVG  \\\n",
       "0                                 0.992407   \n",
       "1                                 0.999230   \n",
       "2                                 0.984591   \n",
       "3                                 0.994961   \n",
       "4                                 0.985488   \n",
       "\n",
       "    Total_RRC_Connection_Setup_Success_Ratio_AVG  \\\n",
       "0                                       0.998720   \n",
       "1                                       0.993518   \n",
       "2                                       0.998783   \n",
       "3                                       0.998095   \n",
       "4                                       0.998673   \n",
       "\n",
       "    Total_RRC_Connection_Re_establishment_Success_Ratio_AVG  \\\n",
       "0                                           0.331485          \n",
       "1                                           0.358130          \n",
       "2                                           0.310432          \n",
       "3                                           0.591061          \n",
       "4                                           0.450843          \n",
       "\n",
       "    Radio_Bearer_Success_Ratio_AVG   ERAB_SetupSR_AVG  \\\n",
       "0                         0.999198           0.999654   \n",
       "1                         0.998407           0.998068   \n",
       "2                         0.999326           0.999253   \n",
       "3                         0.999203           0.999691   \n",
       "4                         0.998981           0.999617   \n",
       "\n",
       "    HO_Success_Ratio_intra_eNB_AVG  \\\n",
       "0                         0.992175   \n",
       "1                         0.980128   \n",
       "2                         0.993642   \n",
       "3                         0.988120   \n",
       "4                         0.989435   \n",
       "\n",
       "                             ...                             \\\n",
       "0                            ...                              \n",
       "1                            ...                              \n",
       "2                            ...                              \n",
       "3                            ...                              \n",
       "4                            ...                              \n",
       "\n",
       "    Average_Physical_Resource_Block_Usage_UL_AVG  \\\n",
       "0                                       2.029270   \n",
       "1                                       2.941401   \n",
       "2                                       1.737991   \n",
       "3                                       1.960138   \n",
       "4                                       4.088653   \n",
       "\n",
       "    Average_Physical_Resource_Block_Usage_DL_AVG  \\\n",
       "0                                       15.12467   \n",
       "1                                       14.50509   \n",
       "2                                       10.10685   \n",
       "3                                       10.62714   \n",
       "4                                       19.18508   \n",
       "\n",
       "    Complete_RACH_Setup_Success_Rate_AVG   AGG1_blocked_distribution_rate_AVG  \\\n",
       "0                               0.832560                             0.191129   \n",
       "1                               0.809881                             0.202040   \n",
       "2                               0.826034                             0.246141   \n",
       "3                               0.884707                             0.124238   \n",
       "4                               0.838161                             0.221814   \n",
       "\n",
       "    AGG2_blocked_distribution_rate_AVG   AGG4_blocked_distribution_rate_AVG  \\\n",
       "0                             0.213966                             0.257052   \n",
       "1                             0.190227                             0.202197   \n",
       "2                             0.235573                             0.274353   \n",
       "3                             0.169905                             0.169546   \n",
       "4                             0.191663                             0.188029   \n",
       "\n",
       "    AGG8_blocked_distribution_rate_AVG  \\\n",
       "0                             0.316564   \n",
       "1                             0.325704   \n",
       "2                             0.212420   \n",
       "3                             0.436171   \n",
       "4                             0.299334   \n",
       "\n",
       "    ECM_failure_ratio_due_to_Rejection_by_RRM_RAC_AVG  \\\n",
       "0                                                  0    \n",
       "1                                                  0    \n",
       "2                                                  0    \n",
       "3                                                  0    \n",
       "4                                                  0    \n",
       "\n",
       "    AGG_level_block_Rate_AVG  \\\n",
       "0                   0.000244   \n",
       "1                   0.000332   \n",
       "2                   0.000132   \n",
       "3                   0.000075   \n",
       "4                   0.000435   \n",
       "\n",
       "    ERAB_Drop_Ratio_with_UE_Lost_cause_initiated_by_eNB_AVG  \n",
       "0                                           0.000119         \n",
       "1                                           0.000222         \n",
       "2                                           0.000107         \n",
       "3                                           0.000042         \n",
       "4                                           0.000125         \n",
       "\n",
       "[5 rows x 22 columns]"
      ]
     },
     "execution_count": 77,
     "metadata": {},
     "output_type": "execute_result"
    }
   ],
   "source": [
    "data.head()"
   ]
  },
  {
   "cell_type": "code",
   "execution_count": 79,
   "metadata": {
    "collapsed": false
   },
   "outputs": [
    {
     "name": "stdout",
     "output_type": "stream",
     "text": [
      "<class 'pandas.core.frame.DataFrame'>\n",
      "RangeIndex: 13949 entries, 0 to 13948\n",
      "Data columns (total 22 columns):\n",
      "ID                                                          13949 non-null int64\n",
      " NumComplains                                               13949 non-null int64\n",
      " hour_id                                                    13949 non-null object\n",
      " LCID                                                       13949 non-null object\n",
      " RACH_Setup_Completion_Success_Rate_AVG                     13948 non-null float64\n",
      " Total_RRC_Connection_Setup_Success_Ratio_AVG               13947 non-null float64\n",
      " Total_RRC_Connection_Re_establishment_Success_Ratio_AVG    13538 non-null float64\n",
      " Radio_Bearer_Success_Ratio_AVG                             13947 non-null float64\n",
      " ERAB_SetupSR_AVG                                           13947 non-null float64\n",
      " HO_Success_Ratio_intra_eNB_AVG                             13799 non-null float64\n",
      " Average_CQI_AVG                                            13948 non-null float64\n",
      " Radio_Bearer_Drop_Ratio_AVG                                13569 non-null float64\n",
      " Average_Physical_Resource_Block_Usage_UL_AVG               13869 non-null float64\n",
      " Average_Physical_Resource_Block_Usage_DL_AVG               13949 non-null float64\n",
      " Complete_RACH_Setup_Success_Rate_AVG                       13947 non-null float64\n",
      " AGG1_blocked_distribution_rate_AVG                         13949 non-null float64\n",
      " AGG2_blocked_distribution_rate_AVG                         13949 non-null float64\n",
      " AGG4_blocked_distribution_rate_AVG                         13949 non-null float64\n",
      " AGG8_blocked_distribution_rate_AVG                         13949 non-null float64\n",
      " ECM_failure_ratio_due_to_Rejection_by_RRM_RAC_AVG          13949 non-null int64\n",
      " AGG_level_block_Rate_AVG                                   13949 non-null float64\n",
      " ERAB_Drop_Ratio_with_UE_Lost_cause_initiated_by_eNB_AVG    13949 non-null float64\n",
      "dtypes: float64(17), int64(3), object(2)\n",
      "memory usage: 2.3+ MB\n"
     ]
    }
   ],
   "source": [
    "data.info()"
   ]
  },
  {
   "cell_type": "code",
   "execution_count": 80,
   "metadata": {
    "collapsed": false
   },
   "outputs": [
    {
     "data": {
      "text/plain": [
       " Total_RRC_Connection_Re_establishment_Success_Ratio_AVG    411\n",
       " Radio_Bearer_Drop_Ratio_AVG                                380\n",
       " HO_Success_Ratio_intra_eNB_AVG                             150\n",
       " Average_Physical_Resource_Block_Usage_UL_AVG                80\n",
       " ERAB_SetupSR_AVG                                             2\n",
       " Total_RRC_Connection_Setup_Success_Ratio_AVG                 2\n",
       " Complete_RACH_Setup_Success_Rate_AVG                         2\n",
       " Radio_Bearer_Success_Ratio_AVG                               2\n",
       " Average_CQI_AVG                                              1\n",
       " RACH_Setup_Completion_Success_Rate_AVG                       1\n",
       " NumComplains                                                 0\n",
       " hour_id                                                      0\n",
       " LCID                                                         0\n",
       " ERAB_Drop_Ratio_with_UE_Lost_cause_initiated_by_eNB_AVG      0\n",
       " AGG_level_block_Rate_AVG                                     0\n",
       " Average_Physical_Resource_Block_Usage_DL_AVG                 0\n",
       " AGG1_blocked_distribution_rate_AVG                           0\n",
       " AGG2_blocked_distribution_rate_AVG                           0\n",
       " AGG4_blocked_distribution_rate_AVG                           0\n",
       " AGG8_blocked_distribution_rate_AVG                           0\n",
       " ECM_failure_ratio_due_to_Rejection_by_RRM_RAC_AVG            0\n",
       "ID                                                            0\n",
       "dtype: int64"
      ]
     },
     "execution_count": 80,
     "metadata": {},
     "output_type": "execute_result"
    }
   ],
   "source": [
    "data.isnull().sum().sort_values(ascending=False)"
   ]
  },
  {
   "cell_type": "code",
   "execution_count": 83,
   "metadata": {
    "collapsed": false
   },
   "outputs": [
    {
     "data": {
      "text/plain": [
       "761"
      ]
     },
     "execution_count": 83,
     "metadata": {},
     "output_type": "execute_result"
    }
   ],
   "source": [
    "#To check the number of rows with missing values\n",
    "data.shape[0]-data.dropna(axis=0).shape[0]"
   ]
  },
  {
   "cell_type": "code",
   "execution_count": 4,
   "metadata": {
    "collapsed": false
   },
   "outputs": [
    {
     "name": "stdout",
     "output_type": "stream",
     "text": [
      "  key  data\n",
      "0   A     0\n",
      "1   B     1\n",
      "2   C     2\n",
      "3   A     3\n",
      "4   B     4\n",
      "5   C     5\n"
     ]
    },
    {
     "data": {
      "text/html": [
       "<div>\n",
       "<style>\n",
       "    .dataframe thead tr:only-child th {\n",
       "        text-align: right;\n",
       "    }\n",
       "\n",
       "    .dataframe thead th {\n",
       "        text-align: left;\n",
       "    }\n",
       "\n",
       "    .dataframe tbody tr th {\n",
       "        vertical-align: top;\n",
       "    }\n",
       "</style>\n",
       "<table border=\"1\" class=\"dataframe\">\n",
       "  <thead>\n",
       "    <tr style=\"text-align: right;\">\n",
       "      <th></th>\n",
       "      <th>data</th>\n",
       "    </tr>\n",
       "    <tr>\n",
       "      <th>key</th>\n",
       "      <th></th>\n",
       "    </tr>\n",
       "  </thead>\n",
       "  <tbody>\n",
       "    <tr>\n",
       "      <th>A</th>\n",
       "      <td>3</td>\n",
       "    </tr>\n",
       "    <tr>\n",
       "      <th>B</th>\n",
       "      <td>5</td>\n",
       "    </tr>\n",
       "    <tr>\n",
       "      <th>C</th>\n",
       "      <td>7</td>\n",
       "    </tr>\n",
       "  </tbody>\n",
       "</table>\n",
       "</div>"
      ],
      "text/plain": [
       "     data\n",
       "key      \n",
       "A       3\n",
       "B       5\n",
       "C       7"
      ]
     },
     "execution_count": 4,
     "metadata": {},
     "output_type": "execute_result"
    }
   ],
   "source": [
    "import pandas as pd\n",
    "import numpy as np\n",
    "df = pd.DataFrame({'key': ['A', 'B', 'C', 'A', 'B', 'C'],\n",
    "'data': range(6)}, columns=['key', 'data'])\n",
    "print(df)\n",
    "df.groupby(\"key\").sum()\n"
   ]
  },
  {
   "cell_type": "code",
   "execution_count": 6,
   "metadata": {
    "collapsed": false
   },
   "outputs": [
    {
     "name": "stdout",
     "output_type": "stream",
     "text": [
      "  key  data1  data2\n",
      "0   A      0      5\n",
      "1   B      1      0\n",
      "2   C      2      3\n",
      "3   A      3      3\n",
      "4   B      4      7\n",
      "5   C      5      9\n"
     ]
    }
   ],
   "source": [
    "rng = np.random.RandomState(0)\n",
    "df = pd.DataFrame({'key': ['A', 'B', 'C', 'A', 'B', \"C\"], \\\n",
    "                   \"data1\": range(6), \"data2\": rng.randint(0, 10, 6)},columns = [\"key\", \"data1\", \"data2\"])\n",
    "print(df)\n"
   ]
  },
  {
   "cell_type": "code",
   "execution_count": 7,
   "metadata": {
    "collapsed": false
   },
   "outputs": [
    {
     "data": {
      "text/html": [
       "<div>\n",
       "<style>\n",
       "    .dataframe thead tr:only-child th {\n",
       "        text-align: right;\n",
       "    }\n",
       "\n",
       "    .dataframe thead th {\n",
       "        text-align: left;\n",
       "    }\n",
       "\n",
       "    .dataframe tbody tr th {\n",
       "        vertical-align: top;\n",
       "    }\n",
       "</style>\n",
       "<table border=\"1\" class=\"dataframe\">\n",
       "  <thead>\n",
       "    <tr>\n",
       "      <th></th>\n",
       "      <th colspan=\"3\" halign=\"left\">data1</th>\n",
       "      <th colspan=\"3\" halign=\"left\">data2</th>\n",
       "    </tr>\n",
       "    <tr>\n",
       "      <th></th>\n",
       "      <th>min</th>\n",
       "      <th>median</th>\n",
       "      <th>max</th>\n",
       "      <th>min</th>\n",
       "      <th>median</th>\n",
       "      <th>max</th>\n",
       "    </tr>\n",
       "    <tr>\n",
       "      <th>key</th>\n",
       "      <th></th>\n",
       "      <th></th>\n",
       "      <th></th>\n",
       "      <th></th>\n",
       "      <th></th>\n",
       "      <th></th>\n",
       "    </tr>\n",
       "  </thead>\n",
       "  <tbody>\n",
       "    <tr>\n",
       "      <th>A</th>\n",
       "      <td>0</td>\n",
       "      <td>1.5</td>\n",
       "      <td>3</td>\n",
       "      <td>3</td>\n",
       "      <td>4.0</td>\n",
       "      <td>5</td>\n",
       "    </tr>\n",
       "    <tr>\n",
       "      <th>B</th>\n",
       "      <td>1</td>\n",
       "      <td>2.5</td>\n",
       "      <td>4</td>\n",
       "      <td>0</td>\n",
       "      <td>3.5</td>\n",
       "      <td>7</td>\n",
       "    </tr>\n",
       "    <tr>\n",
       "      <th>C</th>\n",
       "      <td>2</td>\n",
       "      <td>3.5</td>\n",
       "      <td>5</td>\n",
       "      <td>3</td>\n",
       "      <td>6.0</td>\n",
       "      <td>9</td>\n",
       "    </tr>\n",
       "  </tbody>\n",
       "</table>\n",
       "</div>"
      ],
      "text/plain": [
       "    data1            data2           \n",
       "      min median max   min median max\n",
       "key                                  \n",
       "A       0    1.5   3     3    4.0   5\n",
       "B       1    2.5   4     0    3.5   7\n",
       "C       2    3.5   5     3    6.0   9"
      ]
     },
     "execution_count": 7,
     "metadata": {},
     "output_type": "execute_result"
    }
   ],
   "source": [
    "df.groupby(\"key\").aggregate([min,np.median,max])"
   ]
  },
  {
   "cell_type": "code",
   "execution_count": 8,
   "metadata": {
    "collapsed": false
   },
   "outputs": [
    {
     "data": {
      "text/html": [
       "<div>\n",
       "<style>\n",
       "    .dataframe thead tr:only-child th {\n",
       "        text-align: right;\n",
       "    }\n",
       "\n",
       "    .dataframe thead th {\n",
       "        text-align: left;\n",
       "    }\n",
       "\n",
       "    .dataframe tbody tr th {\n",
       "        vertical-align: top;\n",
       "    }\n",
       "</style>\n",
       "<table border=\"1\" class=\"dataframe\">\n",
       "  <thead>\n",
       "    <tr style=\"text-align: right;\">\n",
       "      <th></th>\n",
       "      <th>data1</th>\n",
       "      <th>data2</th>\n",
       "    </tr>\n",
       "    <tr>\n",
       "      <th>key</th>\n",
       "      <th></th>\n",
       "      <th></th>\n",
       "    </tr>\n",
       "  </thead>\n",
       "  <tbody>\n",
       "    <tr>\n",
       "      <th>A</th>\n",
       "      <td>1.5</td>\n",
       "      <td>5</td>\n",
       "    </tr>\n",
       "    <tr>\n",
       "      <th>B</th>\n",
       "      <td>2.5</td>\n",
       "      <td>7</td>\n",
       "    </tr>\n",
       "    <tr>\n",
       "      <th>C</th>\n",
       "      <td>3.5</td>\n",
       "      <td>9</td>\n",
       "    </tr>\n",
       "  </tbody>\n",
       "</table>\n",
       "</div>"
      ],
      "text/plain": [
       "     data1  data2\n",
       "key              \n",
       "A      1.5      5\n",
       "B      2.5      7\n",
       "C      3.5      9"
      ]
     },
     "execution_count": 8,
     "metadata": {},
     "output_type": "execute_result"
    }
   ],
   "source": [
    "df.groupby(\"key\").aggregate({\"data1\":np.median,\"data2\":max})"
   ]
  },
  {
   "cell_type": "code",
   "execution_count": 114,
   "metadata": {
    "collapsed": false
   },
   "outputs": [
    {
     "data": {
      "text/html": [
       "<div>\n",
       "<style>\n",
       "    .dataframe thead tr:only-child th {\n",
       "        text-align: right;\n",
       "    }\n",
       "\n",
       "    .dataframe thead th {\n",
       "        text-align: left;\n",
       "    }\n",
       "\n",
       "    .dataframe tbody tr th {\n",
       "        vertical-align: top;\n",
       "    }\n",
       "</style>\n",
       "<table border=\"1\" class=\"dataframe\">\n",
       "  <thead>\n",
       "    <tr style=\"text-align: right;\">\n",
       "      <th></th>\n",
       "      <th>min</th>\n",
       "      <th>median</th>\n",
       "      <th>max</th>\n",
       "    </tr>\n",
       "    <tr>\n",
       "      <th>key</th>\n",
       "      <th></th>\n",
       "      <th></th>\n",
       "      <th></th>\n",
       "    </tr>\n",
       "  </thead>\n",
       "  <tbody>\n",
       "    <tr>\n",
       "      <th>A</th>\n",
       "      <td>0</td>\n",
       "      <td>1.5</td>\n",
       "      <td>3</td>\n",
       "    </tr>\n",
       "    <tr>\n",
       "      <th>B</th>\n",
       "      <td>1</td>\n",
       "      <td>2.5</td>\n",
       "      <td>4</td>\n",
       "    </tr>\n",
       "    <tr>\n",
       "      <th>C</th>\n",
       "      <td>2</td>\n",
       "      <td>3.5</td>\n",
       "      <td>5</td>\n",
       "    </tr>\n",
       "  </tbody>\n",
       "</table>\n",
       "</div>"
      ],
      "text/plain": [
       "     min  median  max\n",
       "key                  \n",
       "A      0     1.5    3\n",
       "B      1     2.5    4\n",
       "C      2     3.5    5"
      ]
     },
     "execution_count": 114,
     "metadata": {},
     "output_type": "execute_result"
    }
   ],
   "source": [
    "df.groupby(\"key\")[\"data1\"].aggregate([min,np.median,max])"
   ]
  },
  {
   "cell_type": "code",
   "execution_count": 116,
   "metadata": {
    "collapsed": false
   },
   "outputs": [
    {
     "data": {
      "text/html": [
       "<div>\n",
       "<style>\n",
       "    .dataframe thead tr:only-child th {\n",
       "        text-align: right;\n",
       "    }\n",
       "\n",
       "    .dataframe thead th {\n",
       "        text-align: left;\n",
       "    }\n",
       "\n",
       "    .dataframe tbody tr th {\n",
       "        vertical-align: top;\n",
       "    }\n",
       "</style>\n",
       "<table border=\"1\" class=\"dataframe\">\n",
       "  <thead>\n",
       "    <tr style=\"text-align: right;\">\n",
       "      <th></th>\n",
       "      <th>key</th>\n",
       "      <th>data1</th>\n",
       "      <th>data2</th>\n",
       "    </tr>\n",
       "  </thead>\n",
       "  <tbody>\n",
       "    <tr>\n",
       "      <th>0</th>\n",
       "      <td>A</td>\n",
       "      <td>0</td>\n",
       "      <td>5</td>\n",
       "    </tr>\n",
       "    <tr>\n",
       "      <th>2</th>\n",
       "      <td>C</td>\n",
       "      <td>2</td>\n",
       "      <td>3</td>\n",
       "    </tr>\n",
       "    <tr>\n",
       "      <th>3</th>\n",
       "      <td>A</td>\n",
       "      <td>3</td>\n",
       "      <td>3</td>\n",
       "    </tr>\n",
       "    <tr>\n",
       "      <th>5</th>\n",
       "      <td>C</td>\n",
       "      <td>5</td>\n",
       "      <td>9</td>\n",
       "    </tr>\n",
       "  </tbody>\n",
       "</table>\n",
       "</div>"
      ],
      "text/plain": [
       "  key  data1  data2\n",
       "0   A      0      5\n",
       "2   C      2      3\n",
       "3   A      3      3\n",
       "5   C      5      9"
      ]
     },
     "execution_count": 116,
     "metadata": {},
     "output_type": "execute_result"
    }
   ],
   "source": [
    "df.groupby('key').filter(lambda x:x['data2'].median() >= 4)\n"
   ]
  },
  {
   "cell_type": "code",
   "execution_count": 118,
   "metadata": {
    "collapsed": false
   },
   "outputs": [
    {
     "data": {
      "text/html": [
       "<div>\n",
       "<style>\n",
       "    .dataframe thead tr:only-child th {\n",
       "        text-align: right;\n",
       "    }\n",
       "\n",
       "    .dataframe thead th {\n",
       "        text-align: left;\n",
       "    }\n",
       "\n",
       "    .dataframe tbody tr th {\n",
       "        vertical-align: top;\n",
       "    }\n",
       "</style>\n",
       "<table border=\"1\" class=\"dataframe\">\n",
       "  <thead>\n",
       "    <tr style=\"text-align: right;\">\n",
       "      <th></th>\n",
       "      <th>data1</th>\n",
       "      <th>data2</th>\n",
       "    </tr>\n",
       "  </thead>\n",
       "  <tbody>\n",
       "    <tr>\n",
       "      <th>0</th>\n",
       "      <td>-1.5</td>\n",
       "      <td>1.0</td>\n",
       "    </tr>\n",
       "    <tr>\n",
       "      <th>1</th>\n",
       "      <td>-1.5</td>\n",
       "      <td>-3.5</td>\n",
       "    </tr>\n",
       "    <tr>\n",
       "      <th>2</th>\n",
       "      <td>-1.5</td>\n",
       "      <td>-3.0</td>\n",
       "    </tr>\n",
       "    <tr>\n",
       "      <th>3</th>\n",
       "      <td>1.5</td>\n",
       "      <td>-1.0</td>\n",
       "    </tr>\n",
       "    <tr>\n",
       "      <th>4</th>\n",
       "      <td>1.5</td>\n",
       "      <td>3.5</td>\n",
       "    </tr>\n",
       "    <tr>\n",
       "      <th>5</th>\n",
       "      <td>1.5</td>\n",
       "      <td>3.0</td>\n",
       "    </tr>\n",
       "  </tbody>\n",
       "</table>\n",
       "</div>"
      ],
      "text/plain": [
       "   data1  data2\n",
       "0   -1.5    1.0\n",
       "1   -1.5   -3.5\n",
       "2   -1.5   -3.0\n",
       "3    1.5   -1.0\n",
       "4    1.5    3.5\n",
       "5    1.5    3.0"
      ]
     },
     "execution_count": 118,
     "metadata": {},
     "output_type": "execute_result"
    }
   ],
   "source": [
    "df.groupby('key').transform(lambda x: x - x.median())\n"
   ]
  },
  {
   "cell_type": "code",
   "execution_count": null,
   "metadata": {
    "collapsed": true
   },
   "outputs": [],
   "source": []
  }
 ],
 "metadata": {
  "kernelspec": {
   "display_name": "Python [default]",
   "language": "python",
   "name": "python3"
  },
  "language_info": {
   "codemirror_mode": {
    "name": "ipython",
    "version": 3
   },
   "file_extension": ".py",
   "mimetype": "text/x-python",
   "name": "python",
   "nbconvert_exporter": "python",
   "pygments_lexer": "ipython3",
   "version": "3.5.2"
  }
 },
 "nbformat": 4,
 "nbformat_minor": 2
}
